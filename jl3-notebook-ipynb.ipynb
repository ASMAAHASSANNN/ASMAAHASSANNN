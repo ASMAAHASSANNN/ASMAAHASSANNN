{
 "cells": [
  {
   "cell_type": "markdown",
   "id": "ebbfcd67",
   "metadata": {
    "papermill": {
     "duration": 0.023044,
     "end_time": "2024-01-25T17:22:20.562045",
     "exception": false,
     "start_time": "2024-01-25T17:22:20.539001",
     "status": "completed"
    },
    "tags": []
   },
   "source": [
    "  #                  JL3 UNSUPERVISED LEARNING PREDICT"
   ]
  },
  {
   "cell_type": "markdown",
   "id": "aa7d4678",
   "metadata": {
    "papermill": {
     "duration": 0.020596,
     "end_time": "2024-01-25T17:22:20.602986",
     "exception": false,
     "start_time": "2024-01-25T17:22:20.582390",
     "status": "completed"
    },
    "tags": []
   },
   "source": [
    "# List of All Files in Directory"
   ]
  },
  {
   "cell_type": "code",
   "execution_count": 1,
   "id": "15b528ac",
   "metadata": {
    "execution": {
     "iopub.execute_input": "2024-01-25T17:22:20.645616Z",
     "iopub.status.busy": "2024-01-25T17:22:20.645132Z",
     "iopub.status.idle": "2024-01-25T17:22:21.071085Z",
     "shell.execute_reply": "2024-01-25T17:22:21.069384Z"
    },
    "papermill": {
     "duration": 0.450506,
     "end_time": "2024-01-25T17:22:21.073938",
     "exception": false,
     "start_time": "2024-01-25T17:22:20.623432",
     "status": "completed"
    },
    "tags": []
   },
   "outputs": [
    {
     "name": "stdout",
     "output_type": "stream",
     "text": [
      "/kaggle/input/ea-movies/sample_submission.csv\n",
      "/kaggle/input/ea-movies/movies.csv\n",
      "/kaggle/input/ea-movies/imdb_data.csv\n",
      "/kaggle/input/ea-movies/genome_tags.csv\n",
      "/kaggle/input/ea-movies/genome_scores.csv\n",
      "/kaggle/input/ea-movies/train.csv\n",
      "/kaggle/input/ea-movies/test.csv\n",
      "/kaggle/input/ea-movies/tags.csv\n",
      "/kaggle/input/ea-movies/links.csv\n"
     ]
    }
   ],
   "source": [
    "import numpy as np\n",
    "import pandas as pd\n",
    "\n",
    "import os\n",
    "for dirname, _, filenames in os.walk('/kaggle/input'):\n",
    "    for filename in filenames:\n",
    "        \n",
    "        print(os.path.join(dirname, filename))"
   ]
  },
  {
   "cell_type": "markdown",
   "id": "54716e60",
   "metadata": {
    "papermill": {
     "duration": 0.021311,
     "end_time": "2024-01-25T17:22:21.116713",
     "exception": false,
     "start_time": "2024-01-25T17:22:21.095402",
     "status": "completed"
    },
    "tags": []
   },
   "source": [
    "# Installing Packages"
   ]
  },
  {
   "cell_type": "code",
   "execution_count": 2,
   "id": "48f4388b",
   "metadata": {
    "execution": {
     "iopub.execute_input": "2024-01-25T17:22:21.159968Z",
     "iopub.status.busy": "2024-01-25T17:22:21.159435Z",
     "iopub.status.idle": "2024-01-25T17:22:22.951595Z",
     "shell.execute_reply": "2024-01-25T17:22:22.950063Z"
    },
    "papermill": {
     "duration": 1.816827,
     "end_time": "2024-01-25T17:22:22.954307",
     "exception": false,
     "start_time": "2024-01-25T17:22:21.137480",
     "status": "completed"
    },
    "tags": []
   },
   "outputs": [
    {
     "name": "stdout",
     "output_type": "stream",
     "text": [
      "pip 23.2.1 from /opt/conda/lib/python3.10/site-packages/pip (python 3.10)\r\n"
     ]
    }
   ],
   "source": [
    "!pip --version\n",
    "\n"
   ]
  },
  {
   "cell_type": "code",
   "execution_count": 3,
   "id": "b2968aeb",
   "metadata": {
    "execution": {
     "iopub.execute_input": "2024-01-25T17:22:22.997559Z",
     "iopub.status.busy": "2024-01-25T17:22:22.997076Z",
     "iopub.status.idle": "2024-01-25T17:22:51.836257Z",
     "shell.execute_reply": "2024-01-25T17:22:51.835101Z"
    },
    "papermill": {
     "duration": 28.86406,
     "end_time": "2024-01-25T17:22:51.839005",
     "exception": false,
     "start_time": "2024-01-25T17:22:22.974945",
     "status": "completed"
    },
    "tags": []
   },
   "outputs": [
    {
     "name": "stdout",
     "output_type": "stream",
     "text": [
      "Requirement already satisfied: pip in /opt/conda/lib/python3.10/site-packages (23.2.1)\r\n",
      "Collecting pip\r\n",
      "  Obtaining dependency information for pip from https://files.pythonhosted.org/packages/15/aa/3f4c7bcee2057a76562a5b33ecbd199be08cdb4443a02e26bd2c3cf6fc39/pip-23.3.2-py3-none-any.whl.metadata\r\n",
      "  Downloading pip-23.3.2-py3-none-any.whl.metadata (3.5 kB)\r\n",
      "Downloading pip-23.3.2-py3-none-any.whl (2.1 MB)\r\n",
      "\u001b[2K   \u001b[90m━━━━━━━━━━━━━━━━━━━━━━━━━━━━━━━━━━━━━━━━\u001b[0m \u001b[32m2.1/2.1 MB\u001b[0m \u001b[31m34.7 MB/s\u001b[0m eta \u001b[36m0:00:00\u001b[0m\r\n",
      "\u001b[?25hInstalling collected packages: pip\r\n",
      "  Attempting uninstall: pip\r\n",
      "    Found existing installation: pip 23.2.1\r\n",
      "    Uninstalling pip-23.2.1:\r\n",
      "      Successfully uninstalled pip-23.2.1\r\n",
      "Successfully installed pip-23.3.2\r\n"
     ]
    }
   ],
   "source": [
    "!pip install --upgrade pip\n",
    "\n"
   ]
  },
  {
   "cell_type": "code",
   "execution_count": 4,
   "id": "d5ffb9c6",
   "metadata": {
    "execution": {
     "iopub.execute_input": "2024-01-25T17:22:51.884578Z",
     "iopub.status.busy": "2024-01-25T17:22:51.884144Z",
     "iopub.status.idle": "2024-01-25T17:22:53.607380Z",
     "shell.execute_reply": "2024-01-25T17:22:53.606045Z"
    },
    "papermill": {
     "duration": 1.749173,
     "end_time": "2024-01-25T17:22:53.609969",
     "exception": false,
     "start_time": "2024-01-25T17:22:51.860796",
     "status": "completed"
    },
    "tags": []
   },
   "outputs": [],
   "source": [
    "# Install packages here\n",
    "# !pip install --upgrade pip\n",
    "\n",
    "# !pip install comet_ml\n",
    "\n",
    "# Packages for data processing\n",
    "import numpy as np\n",
    "import pandas as pd\n",
    "import gc\n",
    "\n",
    "\n",
    "import datetime\n",
    "from sklearn import preprocessing\n",
    "from sklearn.datasets import make_blobs\n",
    "from sklearn.preprocessing import StandardScaler\n",
    "from sklearn.feature_extraction.text import TfidfVectorizer\n",
    "from sklearn.metrics.pairwise import cosine_similarity\n",
    "import re\n",
    "from scipy.sparse import csr_matrix\n",
    "import scipy as sp\n",
    "\n",
    "\n",
    "\n",
    "# Packages for visualization\n",
    "import matplotlib.pyplot as plt\n",
    "import seaborn as sns\n",
    "from wordcloud import WordCloud\n",
    "%matplotlib inline\n",
    "sns.set_theme()\n",
    "\n",
    "# Packages for modeling\n",
    "from surprise import Reader\n",
    "from surprise import Dataset\n",
    "from surprise import KNNWithMeans\n",
    "from surprise import KNNBasic\n",
    "from surprise.model_selection import train_test_split\n",
    "from surprise.model_selection import cross_validate\n",
    "from surprise.model_selection import GridSearchCV\n",
    "from surprise import SVD\n",
    "from surprise import SVDpp\n",
    "from surprise import NMF\n",
    "from surprise import SlopeOne\n",
    "from surprise import CoClustering\n",
    "from surprise import KNNBaseline\n",
    "from surprise import NormalPredictor\n",
    "from surprise import BaselineOnly\n",
    "from sklearn.metrics.pairwise import linear_kernel\n",
    "import heapq\n",
    "\n",
    "# Packages for model evaluation\n",
    "from sklearn.metrics import mean_squared_error\n",
    "from sklearn.metrics import mean_absolute_error\n",
    "from time import time\n",
    "\n",
    "# Package to suppress warnings\n",
    "import warnings\n",
    "warnings.filterwarnings(\"ignore\")\n",
    "\n",
    "\n",
    "\n",
    "# Packages for saving models\n",
    "import pickle"
   ]
  },
  {
   "cell_type": "markdown",
   "id": "08db1d9a",
   "metadata": {
    "papermill": {
     "duration": 0.021223,
     "end_time": "2024-01-25T17:22:53.655578",
     "exception": false,
     "start_time": "2024-01-25T17:22:53.634355",
     "status": "completed"
    },
    "tags": []
   },
   "source": [
    "## Reading In data and Overview\n",
    "\n",
    "This dataset consists of several million 5-star ratings obtained from users of the online MovieLens movie recommendation service. The MovieLens dataset has long been used by industry and academic researchers to improve the performance of explicitly-based recommender systems, and now you get to as well!\n",
    "\n",
    "For this Predict, we'll be using a special version of the MovieLens dataset which has enriched with additional data, and resampled for fair evaluation purposes.\n",
    "\n",
    "The data for the MovieLens dataset is maintained by the GroupLens research group in the Department of Computer Science and Engineering at the University of Minnesota. Additional movie content data was legally scraped from IMDB"
   ]
  },
  {
   "cell_type": "markdown",
   "id": "9112e369",
   "metadata": {
    "papermill": {
     "duration": 0.021202,
     "end_time": "2024-01-25T17:22:53.698347",
     "exception": false,
     "start_time": "2024-01-25T17:22:53.677145",
     "status": "completed"
    },
    "tags": []
   },
   "source": [
    "# Loading data"
   ]
  },
  {
   "cell_type": "code",
   "execution_count": 5,
   "id": "52ca2db3",
   "metadata": {
    "execution": {
     "iopub.execute_input": "2024-01-25T17:22:53.743428Z",
     "iopub.status.busy": "2024-01-25T17:22:53.742485Z",
     "iopub.status.idle": "2024-01-25T17:23:21.821542Z",
     "shell.execute_reply": "2024-01-25T17:23:21.820313Z"
    },
    "papermill": {
     "duration": 28.104468,
     "end_time": "2024-01-25T17:23:21.824245",
     "exception": false,
     "start_time": "2024-01-25T17:22:53.719777",
     "status": "completed"
    },
    "tags": []
   },
   "outputs": [],
   "source": [
    "df_sample_submission = pd.read_csv('/kaggle/input/ea-movies/sample_submission.csv')\n",
    "df_movies = pd.read_csv('/kaggle/input/ea-movies/movies.csv')\n",
    "df_imdb = pd.read_csv('/kaggle/input/ea-movies/imdb_data.csv')\n",
    "df_genome_scores = pd.read_csv('/kaggle/input/ea-movies/genome_scores.csv')\n",
    "df_genome_tags = pd.read_csv('/kaggle/input/ea-movies/genome_tags.csv')\n",
    "df_train = pd.read_csv('/kaggle/input/ea-movies/train.csv')\n",
    "df_test = pd.read_csv('/kaggle/input/ea-movies/test.csv')\n",
    "df_tags = pd.read_csv('/kaggle/input/ea-movies/tags.csv')\n",
    "df_links = pd.read_csv('/kaggle/input/ea-movies/links.csv')\n"
   ]
  },
  {
   "cell_type": "markdown",
   "id": "17262eef",
   "metadata": {
    "papermill": {
     "duration": 0.021534,
     "end_time": "2024-01-25T17:23:21.930433",
     "exception": false,
     "start_time": "2024-01-25T17:23:21.908899",
     "status": "completed"
    },
    "tags": []
   },
   "source": [
    "## Data Cleaning"
   ]
  },
  {
   "cell_type": "code",
   "execution_count": 6,
   "id": "e38325d9",
   "metadata": {
    "execution": {
     "iopub.execute_input": "2024-01-25T17:23:21.975672Z",
     "iopub.status.busy": "2024-01-25T17:23:21.975264Z",
     "iopub.status.idle": "2024-01-25T17:23:21.997804Z",
     "shell.execute_reply": "2024-01-25T17:23:21.996684Z"
    },
    "papermill": {
     "duration": 0.047934,
     "end_time": "2024-01-25T17:23:22.000122",
     "exception": false,
     "start_time": "2024-01-25T17:23:21.952188",
     "status": "completed"
    },
    "tags": []
   },
   "outputs": [
    {
     "data": {
      "text/html": [
       "<div>\n",
       "<style scoped>\n",
       "    .dataframe tbody tr th:only-of-type {\n",
       "        vertical-align: middle;\n",
       "    }\n",
       "\n",
       "    .dataframe tbody tr th {\n",
       "        vertical-align: top;\n",
       "    }\n",
       "\n",
       "    .dataframe thead th {\n",
       "        text-align: right;\n",
       "    }\n",
       "</style>\n",
       "<table border=\"1\" class=\"dataframe\">\n",
       "  <thead>\n",
       "    <tr style=\"text-align: right;\">\n",
       "      <th></th>\n",
       "      <th>userId</th>\n",
       "      <th>movieId</th>\n",
       "      <th>rating</th>\n",
       "      <th>timestamp</th>\n",
       "    </tr>\n",
       "  </thead>\n",
       "  <tbody>\n",
       "    <tr>\n",
       "      <th>0</th>\n",
       "      <td>5163</td>\n",
       "      <td>57669</td>\n",
       "      <td>4.0</td>\n",
       "      <td>1518349992</td>\n",
       "    </tr>\n",
       "    <tr>\n",
       "      <th>1</th>\n",
       "      <td>106343</td>\n",
       "      <td>5</td>\n",
       "      <td>4.5</td>\n",
       "      <td>1206238739</td>\n",
       "    </tr>\n",
       "    <tr>\n",
       "      <th>2</th>\n",
       "      <td>146790</td>\n",
       "      <td>5459</td>\n",
       "      <td>5.0</td>\n",
       "      <td>1076215539</td>\n",
       "    </tr>\n",
       "    <tr>\n",
       "      <th>3</th>\n",
       "      <td>106362</td>\n",
       "      <td>32296</td>\n",
       "      <td>2.0</td>\n",
       "      <td>1423042565</td>\n",
       "    </tr>\n",
       "    <tr>\n",
       "      <th>4</th>\n",
       "      <td>9041</td>\n",
       "      <td>366</td>\n",
       "      <td>3.0</td>\n",
       "      <td>833375837</td>\n",
       "    </tr>\n",
       "  </tbody>\n",
       "</table>\n",
       "</div>"
      ],
      "text/plain": [
       "   userId  movieId  rating   timestamp\n",
       "0    5163    57669     4.0  1518349992\n",
       "1  106343        5     4.5  1206238739\n",
       "2  146790     5459     5.0  1076215539\n",
       "3  106362    32296     2.0  1423042565\n",
       "4    9041      366     3.0   833375837"
      ]
     },
     "execution_count": 6,
     "metadata": {},
     "output_type": "execute_result"
    }
   ],
   "source": [
    "df_train.head()"
   ]
  },
  {
   "cell_type": "markdown",
   "id": "d5ac7150",
   "metadata": {
    "papermill": {
     "duration": 0.021588,
     "end_time": "2024-01-25T17:23:22.043892",
     "exception": false,
     "start_time": "2024-01-25T17:23:22.022304",
     "status": "completed"
    },
    "tags": []
   },
   "source": [
    "The train dataframe has 4 columns:\n",
    "* userId - Id assigned to each user in our dataset\n",
    "* movieId - Id assigned to each movie title\n",
    "* rating - rating assigned to a specific movie by a specific user.\n",
    " * ratings are made on a 5-star scale, with half-star increments (0.5 stars - 5.0 stars)\n",
    "* timestamp - represent seconds since midnight Coordinated Universal Time (UTC) of January 1, 1970."
   ]
  },
  {
   "cell_type": "code",
   "execution_count": 7,
   "id": "25ef7aaf",
   "metadata": {
    "execution": {
     "iopub.execute_input": "2024-01-25T17:23:22.089905Z",
     "iopub.status.busy": "2024-01-25T17:23:22.089150Z",
     "iopub.status.idle": "2024-01-25T17:23:22.094935Z",
     "shell.execute_reply": "2024-01-25T17:23:22.093864Z"
    },
    "papermill": {
     "duration": 0.031798,
     "end_time": "2024-01-25T17:23:22.097732",
     "exception": false,
     "start_time": "2024-01-25T17:23:22.065934",
     "status": "completed"
    },
    "tags": []
   },
   "outputs": [
    {
     "name": "stdout",
     "output_type": "stream",
     "text": [
      "df_train has 10000038 observations\n"
     ]
    }
   ],
   "source": [
    "print('df_train has '+str(len(df_train))+' observations')"
   ]
  },
  {
   "cell_type": "code",
   "execution_count": 8,
   "id": "057327de",
   "metadata": {
    "execution": {
     "iopub.execute_input": "2024-01-25T17:23:22.144268Z",
     "iopub.status.busy": "2024-01-25T17:23:22.143854Z",
     "iopub.status.idle": "2024-01-25T17:23:30.298192Z",
     "shell.execute_reply": "2024-01-25T17:23:30.297250Z"
    },
    "papermill": {
     "duration": 8.181988,
     "end_time": "2024-01-25T17:23:30.302194",
     "exception": false,
     "start_time": "2024-01-25T17:23:22.120206",
     "status": "completed"
    },
    "tags": []
   },
   "outputs": [
    {
     "name": "stdout",
     "output_type": "stream",
     "text": [
      "Initial DataFrame:\n",
      "   userId  movieId  rating   timestamp\n",
      "0    5163    57669     4.0  1518349992\n",
      "1  106343        5     4.5  1206238739\n",
      "2  146790     5459     5.0  1076215539\n",
      "3  106362    32296     2.0  1423042565\n",
      "4    9041      366     3.0   833375837\n",
      "\n",
      "Missing Values in Each Column:\n",
      "userId       0\n",
      "movieId      0\n",
      "rating       0\n",
      "timestamp    0\n",
      "dtype: int64\n",
      "\n",
      "Duplicate Rows in the Entire DataFrame:\n",
      "Empty DataFrame\n",
      "Columns: [userId, movieId, rating, timestamp]\n",
      "Index: []\n",
      "\n",
      "Rows with Outliers:\n",
      "Empty DataFrame\n",
      "Columns: [userId, movieId, rating, timestamp]\n",
      "Index: []\n",
      "\n",
      "Unique values in userId:\n",
      "[  5163 106343 146790 ...  79096  14908 102344]\n",
      "\n",
      "Unique values in movieId:\n",
      "[ 57669      5   5459 ... 206347 196867  97148]\n",
      "\n",
      "Unique values in rating:\n",
      "[4.  4.5 5.  2.  3.  1.  3.5 2.5 0.5 1.5]\n",
      "\n",
      "Unique values in timestamp:\n",
      "[1518349992 1206238739 1076215539 ... 1521235092 1227674807 1479921530]\n",
      "\n",
      "Zero Values in Numerical Columns:\n",
      "userId       0\n",
      "movieId      0\n",
      "rating       0\n",
      "timestamp    0\n",
      "dtype: int64\n"
     ]
    }
   ],
   "source": [
    "import pandas as pd\n",
    "import numpy as np\n",
    "from scipy.stats import zscore\n",
    "\n",
    "# Assuming 'train' is your DataFrame, replace it with your actual DataFrame variable\n",
    "\n",
    "# Display the first few rows of the DataFrame before performing data quality checks\n",
    "print(\"Initial DataFrame:\")\n",
    "print(df_train.head())\n",
    "\n",
    "# Check for Missing Values in Each Column\n",
    "missing_values = df_train.isnull().sum()\n",
    "print(\"\\nMissing Values in Each Column:\")\n",
    "print(missing_values)\n",
    "\n",
    "# Check for Duplicates in the Entire DataFrame\n",
    "duplicate_rows = df_train[df_train.duplicated()]\n",
    "print(\"\\nDuplicate Rows in the Entire DataFrame:\")\n",
    "print(duplicate_rows)\n",
    "\n",
    "# Check for Outliers in Numerical Columns (using Z-score)\n",
    "z_scores = np.abs(zscore(df_train.select_dtypes(include=['number'])))\n",
    "outliers = (z_scores > 3).all(axis=1)\n",
    "outliers_df = df_train[outliers]\n",
    "print(\"\\nRows with Outliers:\")\n",
    "print(outliers_df)\n",
    "\n",
    "# Check for Consistency in Categorical Columns\n",
    "categorical_columns = df_train.select_dtypes(include=['object']).columns\n",
    "for col in categorical_columns:\n",
    "    unique_values = df_train[col].unique()\n",
    "    print(f\"\\nUnique values in {col}:\")\n",
    "    print(unique_values)\n",
    "\n",
    "# Check for Consistency in Numerical Columns\n",
    "numerical_columns = df_train.select_dtypes(include=['number']).columns\n",
    "for col in numerical_columns:\n",
    "    unique_values = df_train[col].unique()\n",
    "    print(f\"\\nUnique values in {col}:\")\n",
    "    print(unique_values)\n",
    "\n",
    "# Check for Zero Values in Numerical Columns\n",
    "zero_values = (df_train[numerical_columns] == 0).sum()\n",
    "print(\"\\nZero Values in Numerical Columns:\")\n",
    "print(zero_values)\n"
   ]
  },
  {
   "cell_type": "markdown",
   "id": "f970cf1a",
   "metadata": {
    "papermill": {
     "duration": 0.022464,
     "end_time": "2024-01-25T17:23:30.347873",
     "exception": false,
     "start_time": "2024-01-25T17:23:30.325409",
     "status": "completed"
    },
    "tags": []
   },
   "source": [
    "## Movie Data"
   ]
  },
  {
   "cell_type": "code",
   "execution_count": 9,
   "id": "8fe70c83",
   "metadata": {
    "execution": {
     "iopub.execute_input": "2024-01-25T17:23:30.395593Z",
     "iopub.status.busy": "2024-01-25T17:23:30.394788Z",
     "iopub.status.idle": "2024-01-25T17:23:30.406258Z",
     "shell.execute_reply": "2024-01-25T17:23:30.405151Z"
    },
    "papermill": {
     "duration": 0.038161,
     "end_time": "2024-01-25T17:23:30.408763",
     "exception": false,
     "start_time": "2024-01-25T17:23:30.370602",
     "status": "completed"
    },
    "tags": []
   },
   "outputs": [
    {
     "data": {
      "text/html": [
       "<div>\n",
       "<style scoped>\n",
       "    .dataframe tbody tr th:only-of-type {\n",
       "        vertical-align: middle;\n",
       "    }\n",
       "\n",
       "    .dataframe tbody tr th {\n",
       "        vertical-align: top;\n",
       "    }\n",
       "\n",
       "    .dataframe thead th {\n",
       "        text-align: right;\n",
       "    }\n",
       "</style>\n",
       "<table border=\"1\" class=\"dataframe\">\n",
       "  <thead>\n",
       "    <tr style=\"text-align: right;\">\n",
       "      <th></th>\n",
       "      <th>movieId</th>\n",
       "      <th>title</th>\n",
       "      <th>genres</th>\n",
       "    </tr>\n",
       "  </thead>\n",
       "  <tbody>\n",
       "    <tr>\n",
       "      <th>62418</th>\n",
       "      <td>209157</td>\n",
       "      <td>We (2018)</td>\n",
       "      <td>Drama</td>\n",
       "    </tr>\n",
       "    <tr>\n",
       "      <th>62419</th>\n",
       "      <td>209159</td>\n",
       "      <td>Window of the Soul (2001)</td>\n",
       "      <td>Documentary</td>\n",
       "    </tr>\n",
       "    <tr>\n",
       "      <th>62420</th>\n",
       "      <td>209163</td>\n",
       "      <td>Bad Poems (2018)</td>\n",
       "      <td>Comedy|Drama</td>\n",
       "    </tr>\n",
       "    <tr>\n",
       "      <th>62421</th>\n",
       "      <td>209169</td>\n",
       "      <td>A Girl Thing (2001)</td>\n",
       "      <td>(no genres listed)</td>\n",
       "    </tr>\n",
       "    <tr>\n",
       "      <th>62422</th>\n",
       "      <td>209171</td>\n",
       "      <td>Women of Devil's Island (1962)</td>\n",
       "      <td>Action|Adventure|Drama</td>\n",
       "    </tr>\n",
       "  </tbody>\n",
       "</table>\n",
       "</div>"
      ],
      "text/plain": [
       "       movieId                           title                  genres\n",
       "62418   209157                       We (2018)                   Drama\n",
       "62419   209159       Window of the Soul (2001)             Documentary\n",
       "62420   209163                Bad Poems (2018)            Comedy|Drama\n",
       "62421   209169             A Girl Thing (2001)      (no genres listed)\n",
       "62422   209171  Women of Devil's Island (1962)  Action|Adventure|Drama"
      ]
     },
     "execution_count": 9,
     "metadata": {},
     "output_type": "execute_result"
    }
   ],
   "source": [
    "df_movies.tail()"
   ]
  },
  {
   "cell_type": "markdown",
   "id": "07f8dafc",
   "metadata": {
    "papermill": {
     "duration": 0.022705,
     "end_time": "2024-01-25T17:23:30.454484",
     "exception": false,
     "start_time": "2024-01-25T17:23:30.431779",
     "status": "completed"
    },
    "tags": []
   },
   "source": [
    "This movies dataframe has 3 columns namely:\n",
    "* movieId\n",
    "* title of the movie\n",
    "* genres"
   ]
  },
  {
   "cell_type": "code",
   "execution_count": 10,
   "id": "0416686f",
   "metadata": {
    "execution": {
     "iopub.execute_input": "2024-01-25T17:23:30.503132Z",
     "iopub.status.busy": "2024-01-25T17:23:30.502337Z",
     "iopub.status.idle": "2024-01-25T17:23:30.508618Z",
     "shell.execute_reply": "2024-01-25T17:23:30.507362Z"
    },
    "papermill": {
     "duration": 0.033194,
     "end_time": "2024-01-25T17:23:30.510838",
     "exception": false,
     "start_time": "2024-01-25T17:23:30.477644",
     "status": "completed"
    },
    "tags": []
   },
   "outputs": [
    {
     "name": "stdout",
     "output_type": "stream",
     "text": [
      "df_movies 62423 observations.\n"
     ]
    }
   ],
   "source": [
    "#getting dimensions\n",
    "print(\"df_movies \"+ str(len(df_movies))+\" observations.\")"
   ]
  },
  {
   "cell_type": "code",
   "execution_count": 11,
   "id": "0d1fd2b1",
   "metadata": {
    "execution": {
     "iopub.execute_input": "2024-01-25T17:23:30.559205Z",
     "iopub.status.busy": "2024-01-25T17:23:30.558391Z",
     "iopub.status.idle": "2024-01-25T17:23:30.661395Z",
     "shell.execute_reply": "2024-01-25T17:23:30.660016Z"
    },
    "papermill": {
     "duration": 0.13027,
     "end_time": "2024-01-25T17:23:30.664183",
     "exception": false,
     "start_time": "2024-01-25T17:23:30.533913",
     "status": "completed"
    },
    "tags": []
   },
   "outputs": [
    {
     "name": "stdout",
     "output_type": "stream",
     "text": [
      "Initial DataFrame:\n",
      "   movieId                               title  \\\n",
      "0        1                    Toy Story (1995)   \n",
      "1        2                      Jumanji (1995)   \n",
      "2        3             Grumpier Old Men (1995)   \n",
      "3        4            Waiting to Exhale (1995)   \n",
      "4        5  Father of the Bride Part II (1995)   \n",
      "\n",
      "                                        genres  \n",
      "0  Adventure|Animation|Children|Comedy|Fantasy  \n",
      "1                   Adventure|Children|Fantasy  \n",
      "2                               Comedy|Romance  \n",
      "3                         Comedy|Drama|Romance  \n",
      "4                                       Comedy  \n",
      "\n",
      "Missing Values in Each Column:\n",
      "movieId    0\n",
      "title      0\n",
      "genres     0\n",
      "dtype: int64\n",
      "\n",
      "Duplicate Rows in the Entire DataFrame:\n",
      "Empty DataFrame\n",
      "Columns: [movieId, title, genres]\n",
      "Index: []\n",
      "\n",
      "Rows with Outliers:\n",
      "Empty DataFrame\n",
      "Columns: [movieId, title, genres]\n",
      "Index: []\n",
      "\n",
      "Unique values in title:\n",
      "['Toy Story (1995)' 'Jumanji (1995)' 'Grumpier Old Men (1995)' ...\n",
      " 'Bad Poems (2018)' 'A Girl Thing (2001)' \"Women of Devil's Island (1962)\"]\n",
      "\n",
      "Unique values in genres:\n",
      "['Adventure|Animation|Children|Comedy|Fantasy'\n",
      " 'Adventure|Children|Fantasy' 'Comedy|Romance' ...\n",
      " 'Children|Comedy|Fantasy|Mystery' 'Children|Comedy|Crime|Fantasy'\n",
      " 'Comedy|Horror|Mystery|Sci-Fi|Western']\n",
      "\n",
      "Unique values in movieId:\n",
      "[     1      2      3 ... 209163 209169 209171]\n",
      "\n",
      "Zero Values in Numerical Columns:\n",
      "movieId    0\n",
      "dtype: int64\n"
     ]
    }
   ],
   "source": [
    "import pandas as pd\n",
    "import numpy as np\n",
    "from scipy.stats import zscore\n",
    "\n",
    "# Assuming 'train' is your DataFrame, replace it with your actual DataFrame variable\n",
    "\n",
    "# Display the first few rows of the DataFrame before performing data quality checks\n",
    "print(\"Initial DataFrame:\")\n",
    "print(df_movies.head())\n",
    "\n",
    "# Check for Missing Values in Each Column\n",
    "missing_values = df_movies.isnull().sum()\n",
    "print(\"\\nMissing Values in Each Column:\")\n",
    "print(missing_values)\n",
    "\n",
    "# Check for Duplicates in the Entire DataFrame\n",
    "duplicate_rows = df_movies[df_movies.duplicated()]\n",
    "print(\"\\nDuplicate Rows in the Entire DataFrame:\")\n",
    "print(duplicate_rows)\n",
    "\n",
    "# Check for Outliers in Numerical Columns (using Z-score)\n",
    "z_scores = np.abs(zscore(df_movies.select_dtypes(include=['number'])))\n",
    "outliers = (z_scores > 3).all(axis=1)\n",
    "outliers_df = df_movies[outliers]\n",
    "print(\"\\nRows with Outliers:\")\n",
    "print(outliers_df)\n",
    "\n",
    "# Check for Consistency in Categorical Columns\n",
    "categorical_columns = df_movies.select_dtypes(include=['object']).columns\n",
    "for col in categorical_columns:\n",
    "    unique_values = df_movies[col].unique()\n",
    "    print(f\"\\nUnique values in {col}:\")\n",
    "    print(unique_values)\n",
    "\n",
    "# Check for Consistency in Numerical Columns\n",
    "numerical_columns = df_movies.select_dtypes(include=['number']).columns\n",
    "for col in numerical_columns:\n",
    "    unique_values = df_movies[col].unique()\n",
    "    print(f\"\\nUnique values in {col}:\")\n",
    "    print(unique_values)\n",
    "\n",
    "# Check for Zero Values in Numerical Columns\n",
    "zero_values = (df_movies[numerical_columns] == 0).sum()\n",
    "print(\"\\nZero Values in Numerical Columns:\")\n",
    "print(zero_values)\n"
   ]
  },
  {
   "cell_type": "code",
   "execution_count": 12,
   "id": "80f6965c",
   "metadata": {
    "execution": {
     "iopub.execute_input": "2024-01-25T17:23:30.713415Z",
     "iopub.status.busy": "2024-01-25T17:23:30.712971Z",
     "iopub.status.idle": "2024-01-25T17:23:30.764513Z",
     "shell.execute_reply": "2024-01-25T17:23:30.763675Z"
    },
    "papermill": {
     "duration": 0.079424,
     "end_time": "2024-01-25T17:23:30.767274",
     "exception": false,
     "start_time": "2024-01-25T17:23:30.687850",
     "status": "completed"
    },
    "tags": []
   },
   "outputs": [
    {
     "name": "stdout",
     "output_type": "stream",
     "text": [
      "Missing Values in Each Column (Before Cleaning):\n",
      "movieId    0\n",
      "title      0\n",
      "genres     0\n",
      "dtype: int64\n",
      "\n",
      "Missing Values in Each Column (After Cleaning):\n",
      "movieId    0\n",
      "title      0\n",
      "genres     0\n",
      "dtype: int64\n"
     ]
    }
   ],
   "source": [
    "import pandas as pd\n",
    "\n",
    "# Assuming 'imdb' is your DataFrame, replace it with your actual DataFrame variable\n",
    "\n",
    "# Display the number of missing values in each column before cleaning\n",
    "print(\"Missing Values in Each Column (Before Cleaning):\")\n",
    "print(df_movies.isnull().sum())\n",
    "\n",
    "# Drop rows with missing values\n",
    "df_movies_cleaned = df_movies.dropna()\n",
    "\n",
    "# Display the number of missing values in each column after cleaning\n",
    "print(\"\\nMissing Values in Each Column (After Cleaning):\")\n",
    "print(df_movies_cleaned.isnull().sum())\n"
   ]
  },
  {
   "cell_type": "code",
   "execution_count": 13,
   "id": "589201d2",
   "metadata": {
    "execution": {
     "iopub.execute_input": "2024-01-25T17:23:30.816513Z",
     "iopub.status.busy": "2024-01-25T17:23:30.815813Z",
     "iopub.status.idle": "2024-01-25T17:23:31.478591Z",
     "shell.execute_reply": "2024-01-25T17:23:31.477167Z"
    },
    "papermill": {
     "duration": 0.690517,
     "end_time": "2024-01-25T17:23:31.481503",
     "exception": false,
     "start_time": "2024-01-25T17:23:30.790986",
     "status": "completed"
    },
    "tags": []
   },
   "outputs": [
    {
     "name": "stdout",
     "output_type": "stream",
     "text": [
      "[nltk_data] Downloading package punkt to /usr/share/nltk_data...\n",
      "[nltk_data]   Package punkt is already up-to-date!\n",
      "Title: Toy StoryJumanjiGrumpier Old MenWaiting to ExhaleFather of the Bride Part II\n",
      "Tokens: ['Toy', 'StoryJumanjiGrumpier', 'Old', 'MenWaiting', 'to', 'ExhaleFather', 'of', 'the', 'Bride', 'Part', 'II']\n",
      "\n"
     ]
    }
   ],
   "source": [
    "import nltk\n",
    "from nltk.tokenize import word_tokenize\n",
    "\n",
    "# Download the punkt tokenizer (if not already downloaded)\n",
    "nltk.download('punkt')\n",
    "\n",
    "# Sample movie titles (replace with your actual movie titles)\n",
    "movie_titles = [\n",
    "    \"Toy Story\"  \n",
    "                      \"Jumanji\"   \n",
    "            \"Grumpier Old Men\"    \n",
    "           \"Waiting to Exhale\"    \n",
    "\"Father of the Bride Part II\" ]  \n",
    "\n",
    "\n",
    "# Tokenize each movie title\n",
    "tokenized_titles = [word_tokenize(title) for title in movie_titles]\n",
    "\n",
    "# Display the tokenized titles\n",
    "for title, tokens in zip(movie_titles, tokenized_titles):\n",
    "    print(f\"Title: {title}\")\n",
    "    print(f\"Tokens: {tokens}\\n\")\n"
   ]
  },
  {
   "cell_type": "code",
   "execution_count": 14,
   "id": "39c8c0f3",
   "metadata": {
    "execution": {
     "iopub.execute_input": "2024-01-25T17:23:31.531372Z",
     "iopub.status.busy": "2024-01-25T17:23:31.530363Z",
     "iopub.status.idle": "2024-01-25T17:23:31.546009Z",
     "shell.execute_reply": "2024-01-25T17:23:31.544435Z"
    },
    "papermill": {
     "duration": 0.042924,
     "end_time": "2024-01-25T17:23:31.548291",
     "exception": false,
     "start_time": "2024-01-25T17:23:31.505367",
     "status": "completed"
    },
    "tags": []
   },
   "outputs": [
    {
     "name": "stdout",
     "output_type": "stream",
     "text": [
      "Original DataFrame:\n",
      "                                               title\n",
      "0  Toy StoryJumanjiGrumpier Old MenWaiting to Exh...\n",
      "\n",
      "DataFrame After Cleaning:\n",
      "                                       cleaned_title\n",
      "0  toy storyjumanjigrumpier old menwaiting to exh...\n"
     ]
    }
   ],
   "source": [
    "import pandas as pd\n",
    "import re\n",
    "\n",
    "# Sample DataFrame with movie titles\n",
    "data = {'title': [\"Toy Story\"  \n",
    "                      \"Jumanji\"   \n",
    "            \"Grumpier Old Men\"    \n",
    "           \"Waiting to Exhale\"    \n",
    "\"Father of the Bride Part II\"]}\n",
    "movies = pd.DataFrame(data)\n",
    "\n",
    "# Data Cleaning Steps\n",
    "movies['cleaned_title'] = (\n",
    "    movies['title']\n",
    "    .str.lower()  # Convert to lowercase\n",
    "    .str.strip()  # Remove leading and trailing whitespaces\n",
    "    .apply(lambda x: re.sub(r'[^\\w\\s]', '', x))  # Remove special characters\n",
    "    .apply(lambda x: re.sub(r'\\s+', ' ', x))  # Standardize spaces\n",
    ")\n",
    "\n",
    "# Display the cleaned DataFrame\n",
    "print(\"Original DataFrame:\")\n",
    "print(movies[['title']])\n",
    "print(\"\\nDataFrame After Cleaning:\")\n",
    "print(movies[['cleaned_title']])\n"
   ]
  },
  {
   "cell_type": "code",
   "execution_count": 15,
   "id": "eb6feb8d",
   "metadata": {
    "execution": {
     "iopub.execute_input": "2024-01-25T17:23:31.598745Z",
     "iopub.status.busy": "2024-01-25T17:23:31.597962Z",
     "iopub.status.idle": "2024-01-25T17:23:31.611300Z",
     "shell.execute_reply": "2024-01-25T17:23:31.610125Z"
    },
    "papermill": {
     "duration": 0.04124,
     "end_time": "2024-01-25T17:23:31.613816",
     "exception": false,
     "start_time": "2024-01-25T17:23:31.572576",
     "status": "completed"
    },
    "tags": []
   },
   "outputs": [
    {
     "name": "stdout",
     "output_type": "stream",
     "text": [
      "Original DataFrame:\n",
      "   movieId    title                       genres\n",
      "0        1  Movie A  [Action, Adventure, Sci-Fi]\n",
      "1        2  Movie B            [Comedy, Romance]\n",
      "2        3  Movie C                      [Drama]\n",
      "3        4  Movie D  [Action, Adventure, Sci-Fi]\n",
      "4        5  Movie E                      [Drama]\n"
     ]
    }
   ],
   "source": [
    "import pandas as pd\n",
    "\n",
    "# Assuming 'movies' is your DataFrame and column names are as mentioned\n",
    "# Replace with your actual DataFrame and column names\n",
    "\n",
    "# Sample DataFrame\n",
    "data = {\n",
    "    'movieId': [1, 2, 3, 4, 5],\n",
    "    'title': ['Movie A', 'Movie B', 'Movie C', 'Movie D', 'Movie E'],\n",
    "    'genres': ['Action|Adventure|Sci-Fi', 'Comedy|Romance', 'Drama', 'Action|Adventure|Sci-Fi', 'Drama']\n",
    "}\n",
    "\n",
    "movies = pd.DataFrame(data)\n",
    "\n",
    "# Data Cleaning Steps\n",
    "movies['title'] = movies['title'].str.strip()  # Remove leading and trailing whitespaces\n",
    "\n",
    "# Split the genres into a list of genres\n",
    "movies['genres'] = movies['genres'].str.split('|')\n",
    "\n",
    "# Display the cleaned DataFrame\n",
    "print(\"Original DataFrame:\")\n",
    "print(movies)\n"
   ]
  },
  {
   "cell_type": "markdown",
   "id": "b60be404",
   "metadata": {
    "papermill": {
     "duration": 0.023417,
     "end_time": "2024-01-25T17:23:31.661699",
     "exception": false,
     "start_time": "2024-01-25T17:23:31.638282",
     "status": "completed"
    },
    "tags": []
   },
   "source": [
    "## IMBD Data"
   ]
  },
  {
   "cell_type": "code",
   "execution_count": 16,
   "id": "4a193efb",
   "metadata": {
    "execution": {
     "iopub.execute_input": "2024-01-25T17:23:31.710948Z",
     "iopub.status.busy": "2024-01-25T17:23:31.710533Z",
     "iopub.status.idle": "2024-01-25T17:23:31.725038Z",
     "shell.execute_reply": "2024-01-25T17:23:31.723933Z"
    },
    "papermill": {
     "duration": 0.041991,
     "end_time": "2024-01-25T17:23:31.727412",
     "exception": false,
     "start_time": "2024-01-25T17:23:31.685421",
     "status": "completed"
    },
    "tags": []
   },
   "outputs": [
    {
     "data": {
      "text/html": [
       "<div>\n",
       "<style scoped>\n",
       "    .dataframe tbody tr th:only-of-type {\n",
       "        vertical-align: middle;\n",
       "    }\n",
       "\n",
       "    .dataframe tbody tr th {\n",
       "        vertical-align: top;\n",
       "    }\n",
       "\n",
       "    .dataframe thead th {\n",
       "        text-align: right;\n",
       "    }\n",
       "</style>\n",
       "<table border=\"1\" class=\"dataframe\">\n",
       "  <thead>\n",
       "    <tr style=\"text-align: right;\">\n",
       "      <th></th>\n",
       "      <th>movieId</th>\n",
       "      <th>title_cast</th>\n",
       "      <th>director</th>\n",
       "      <th>runtime</th>\n",
       "      <th>budget</th>\n",
       "      <th>plot_keywords</th>\n",
       "    </tr>\n",
       "  </thead>\n",
       "  <tbody>\n",
       "    <tr>\n",
       "      <th>0</th>\n",
       "      <td>1</td>\n",
       "      <td>Tom Hanks|Tim Allen|Don Rickles|Jim Varney|Wal...</td>\n",
       "      <td>John Lasseter</td>\n",
       "      <td>81.0</td>\n",
       "      <td>$30,000,000</td>\n",
       "      <td>toy|rivalry|cowboy|cgi animation</td>\n",
       "    </tr>\n",
       "    <tr>\n",
       "      <th>1</th>\n",
       "      <td>2</td>\n",
       "      <td>Robin Williams|Jonathan Hyde|Kirsten Dunst|Bra...</td>\n",
       "      <td>Jonathan Hensleigh</td>\n",
       "      <td>104.0</td>\n",
       "      <td>$65,000,000</td>\n",
       "      <td>board game|adventurer|fight|game</td>\n",
       "    </tr>\n",
       "    <tr>\n",
       "      <th>2</th>\n",
       "      <td>3</td>\n",
       "      <td>Walter Matthau|Jack Lemmon|Sophia Loren|Ann-Ma...</td>\n",
       "      <td>Mark Steven Johnson</td>\n",
       "      <td>101.0</td>\n",
       "      <td>$25,000,000</td>\n",
       "      <td>boat|lake|neighbor|rivalry</td>\n",
       "    </tr>\n",
       "    <tr>\n",
       "      <th>3</th>\n",
       "      <td>4</td>\n",
       "      <td>Whitney Houston|Angela Bassett|Loretta Devine|...</td>\n",
       "      <td>Terry McMillan</td>\n",
       "      <td>124.0</td>\n",
       "      <td>$16,000,000</td>\n",
       "      <td>black american|husband wife relationship|betra...</td>\n",
       "    </tr>\n",
       "    <tr>\n",
       "      <th>4</th>\n",
       "      <td>5</td>\n",
       "      <td>Steve Martin|Diane Keaton|Martin Short|Kimberl...</td>\n",
       "      <td>Albert Hackett</td>\n",
       "      <td>106.0</td>\n",
       "      <td>$30,000,000</td>\n",
       "      <td>fatherhood|doberman|dog|mansion</td>\n",
       "    </tr>\n",
       "  </tbody>\n",
       "</table>\n",
       "</div>"
      ],
      "text/plain": [
       "   movieId                                         title_cast  \\\n",
       "0        1  Tom Hanks|Tim Allen|Don Rickles|Jim Varney|Wal...   \n",
       "1        2  Robin Williams|Jonathan Hyde|Kirsten Dunst|Bra...   \n",
       "2        3  Walter Matthau|Jack Lemmon|Sophia Loren|Ann-Ma...   \n",
       "3        4  Whitney Houston|Angela Bassett|Loretta Devine|...   \n",
       "4        5  Steve Martin|Diane Keaton|Martin Short|Kimberl...   \n",
       "\n",
       "              director  runtime       budget  \\\n",
       "0        John Lasseter     81.0  $30,000,000   \n",
       "1   Jonathan Hensleigh    104.0  $65,000,000   \n",
       "2  Mark Steven Johnson    101.0  $25,000,000   \n",
       "3       Terry McMillan    124.0  $16,000,000   \n",
       "4       Albert Hackett    106.0  $30,000,000   \n",
       "\n",
       "                                       plot_keywords  \n",
       "0                   toy|rivalry|cowboy|cgi animation  \n",
       "1                   board game|adventurer|fight|game  \n",
       "2                         boat|lake|neighbor|rivalry  \n",
       "3  black american|husband wife relationship|betra...  \n",
       "4                    fatherhood|doberman|dog|mansion  "
      ]
     },
     "execution_count": 16,
     "metadata": {},
     "output_type": "execute_result"
    }
   ],
   "source": [
    "df_imdb.head()"
   ]
  },
  {
   "cell_type": "markdown",
   "id": "22da9f1a",
   "metadata": {
    "papermill": {
     "duration": 0.023627,
     "end_time": "2024-01-25T17:23:31.775406",
     "exception": false,
     "start_time": "2024-01-25T17:23:31.751779",
     "status": "completed"
    },
    "tags": []
   },
   "source": [
    "The imdb dataframe has 5 columns:\n",
    "* movieId\n",
    "* title_cast \n",
    "* Directors names\n",
    "* runtime\n",
    "* budget\n",
    "* plot_keywords"
   ]
  },
  {
   "cell_type": "code",
   "execution_count": 17,
   "id": "0d92385b",
   "metadata": {
    "execution": {
     "iopub.execute_input": "2024-01-25T17:23:31.827339Z",
     "iopub.status.busy": "2024-01-25T17:23:31.826935Z",
     "iopub.status.idle": "2024-01-25T17:23:31.854275Z",
     "shell.execute_reply": "2024-01-25T17:23:31.853167Z"
    },
    "papermill": {
     "duration": 0.055332,
     "end_time": "2024-01-25T17:23:31.856796",
     "exception": false,
     "start_time": "2024-01-25T17:23:31.801464",
     "status": "completed"
    },
    "tags": []
   },
   "outputs": [
    {
     "name": "stdout",
     "output_type": "stream",
     "text": [
      "<class 'pandas.core.frame.DataFrame'>\n",
      "RangeIndex: 27278 entries, 0 to 27277\n",
      "Data columns (total 6 columns):\n",
      " #   Column         Non-Null Count  Dtype  \n",
      "---  ------         --------------  -----  \n",
      " 0   movieId        27278 non-null  int64  \n",
      " 1   title_cast     17210 non-null  object \n",
      " 2   director       17404 non-null  object \n",
      " 3   runtime        15189 non-null  float64\n",
      " 4   budget         7906 non-null   object \n",
      " 5   plot_keywords  16200 non-null  object \n",
      "dtypes: float64(1), int64(1), object(4)\n",
      "memory usage: 1.2+ MB\n"
     ]
    }
   ],
   "source": [
    "df_imdb.info()"
   ]
  },
  {
   "cell_type": "markdown",
   "id": "c5a113a8",
   "metadata": {
    "papermill": {
     "duration": 0.024236,
     "end_time": "2024-01-25T17:23:31.905553",
     "exception": false,
     "start_time": "2024-01-25T17:23:31.881317",
     "status": "completed"
    },
    "tags": []
   },
   "source": [
    "df_imdb has 27279 observations and some columns contain missing values"
   ]
  },
  {
   "cell_type": "code",
   "execution_count": 18,
   "id": "108790be",
   "metadata": {
    "execution": {
     "iopub.execute_input": "2024-01-25T17:23:31.955817Z",
     "iopub.status.busy": "2024-01-25T17:23:31.955410Z",
     "iopub.status.idle": "2024-01-25T17:23:31.989877Z",
     "shell.execute_reply": "2024-01-25T17:23:31.988615Z"
    },
    "papermill": {
     "duration": 0.062403,
     "end_time": "2024-01-25T17:23:31.992416",
     "exception": false,
     "start_time": "2024-01-25T17:23:31.930013",
     "status": "completed"
    },
    "tags": []
   },
   "outputs": [
    {
     "name": "stdout",
     "output_type": "stream",
     "text": [
      "Missing Values in Each Column (Before Cleaning):\n",
      "movieId              0\n",
      "title_cast       10068\n",
      "director          9874\n",
      "runtime          12089\n",
      "budget           19372\n",
      "plot_keywords    11078\n",
      "dtype: int64\n",
      "\n",
      "Missing Values in Each Column (After Cleaning):\n",
      "movieId          0\n",
      "title_cast       0\n",
      "director         0\n",
      "runtime          0\n",
      "budget           0\n",
      "plot_keywords    0\n",
      "dtype: int64\n"
     ]
    }
   ],
   "source": [
    "import pandas as pd\n",
    "# Display the number of missing values in each column before cleaning\n",
    "print(\"Missing Values in Each Column (Before Cleaning):\")\n",
    "print(df_imdb.isnull().sum())\n",
    "\n",
    "# Drop rows with missing values\n",
    "df_imdb_cleaned = df_imdb.dropna()\n",
    "\n",
    "# Display the number of missing values in each column after cleaning\n",
    "print(\"\\nMissing Values in Each Column (After Cleaning):\")\n",
    "print(df_imdb_cleaned.isnull().sum())\n"
   ]
  },
  {
   "cell_type": "code",
   "execution_count": 19,
   "id": "5fd76edc",
   "metadata": {
    "execution": {
     "iopub.execute_input": "2024-01-25T17:23:32.042475Z",
     "iopub.status.busy": "2024-01-25T17:23:32.042043Z",
     "iopub.status.idle": "2024-01-25T17:23:32.059827Z",
     "shell.execute_reply": "2024-01-25T17:23:32.058710Z"
    },
    "papermill": {
     "duration": 0.046415,
     "end_time": "2024-01-25T17:23:32.063074",
     "exception": false,
     "start_time": "2024-01-25T17:23:32.016659",
     "status": "completed"
    },
    "tags": []
   },
   "outputs": [
    {
     "name": "stdout",
     "output_type": "stream",
     "text": [
      "Original DataFrame:\n",
      "   movieId      title_cast Directors names  runtime    budget  \\\n",
      "0        1  actor1, actor2       director1      120  10000000   \n",
      "1        2  actor3, actor4       director2      150  20000000   \n",
      "2        3          actor5       director3       90  15000000   \n",
      "3        4  actor6, actor7       director4      135  25000000   \n",
      "4        5          actor8       director5      120  18000000   \n",
      "\n",
      "       plot_keywords  \n",
      "0      Action, Drama  \n",
      "1    Comedy, Romance  \n",
      "2           Thriller  \n",
      "3  Action, Adventure  \n",
      "4              Drama  \n"
     ]
    }
   ],
   "source": [
    "import pandas as pd\n",
    "\n",
    "# Sample DataFrame\n",
    "data = {\n",
    "    'movieId': [1, 2, 3, 4, 5],\n",
    "    'title_cast': ['Actor1, Actor2', 'Actor3, Actor4', 'Actor5', 'Actor6, Actor7', 'Actor8'],\n",
    "    'Directors names': ['Director1', 'Director2', 'Director3', 'Director4', 'Director5'],\n",
    "    'runtime': ['120 min', '150 min', '90 min', '135 min', '120 min'],\n",
    "    'budget': ['$10,000,000', '$20,000,000', '$15,000,000', '$25,000,000', '$18,000,000'],\n",
    "    'plot_keywords': ['Action, Drama', 'Comedy, Romance', 'Thriller', 'Action, Adventure', 'Drama']\n",
    "}\n",
    "\n",
    "df_imdb = pd.DataFrame(data)\n",
    "\n",
    "# Data Cleaning Steps\n",
    "df_imdb['title_cast'] = df_imdb['title_cast'].str.lower().str.strip()\n",
    "df_imdb['Directors names'] = df_imdb['Directors names'].str.lower().str.strip()\n",
    "df_imdb['runtime'] = pd.to_numeric(df_imdb['runtime'].str.extract('(\\d+)', expand=False), errors='coerce')\n",
    "df_imdb['budget'] = pd.to_numeric(df_imdb['budget'].replace('[\\$,]', '', regex=True), errors='coerce')\n",
    "\n",
    "# Display the cleaned DataFrame\n",
    "print(\"Original DataFrame:\")\n",
    "print(df_imdb)\n"
   ]
  },
  {
   "cell_type": "markdown",
   "id": "39375586",
   "metadata": {
    "papermill": {
     "duration": 0.02397,
     "end_time": "2024-01-25T17:23:32.111496",
     "exception": false,
     "start_time": "2024-01-25T17:23:32.087526",
     "status": "completed"
    },
    "tags": []
   },
   "source": [
    "## Genome Tags & Scores\n",
    "Tag genome encodes how strongly movies exhibit particular properties represented by tags. We looked at both the df_genome_tags and df_genome_scores, starting with the former"
   ]
  },
  {
   "cell_type": "code",
   "execution_count": 20,
   "id": "6ef822e9",
   "metadata": {
    "execution": {
     "iopub.execute_input": "2024-01-25T17:23:32.162220Z",
     "iopub.status.busy": "2024-01-25T17:23:32.161540Z",
     "iopub.status.idle": "2024-01-25T17:23:32.172511Z",
     "shell.execute_reply": "2024-01-25T17:23:32.171344Z"
    },
    "papermill": {
     "duration": 0.039156,
     "end_time": "2024-01-25T17:23:32.175065",
     "exception": false,
     "start_time": "2024-01-25T17:23:32.135909",
     "status": "completed"
    },
    "tags": []
   },
   "outputs": [
    {
     "data": {
      "text/html": [
       "<div>\n",
       "<style scoped>\n",
       "    .dataframe tbody tr th:only-of-type {\n",
       "        vertical-align: middle;\n",
       "    }\n",
       "\n",
       "    .dataframe tbody tr th {\n",
       "        vertical-align: top;\n",
       "    }\n",
       "\n",
       "    .dataframe thead th {\n",
       "        text-align: right;\n",
       "    }\n",
       "</style>\n",
       "<table border=\"1\" class=\"dataframe\">\n",
       "  <thead>\n",
       "    <tr style=\"text-align: right;\">\n",
       "      <th></th>\n",
       "      <th>tagId</th>\n",
       "      <th>tag</th>\n",
       "    </tr>\n",
       "  </thead>\n",
       "  <tbody>\n",
       "    <tr>\n",
       "      <th>0</th>\n",
       "      <td>1</td>\n",
       "      <td>007</td>\n",
       "    </tr>\n",
       "    <tr>\n",
       "      <th>1</th>\n",
       "      <td>2</td>\n",
       "      <td>007 (series)</td>\n",
       "    </tr>\n",
       "    <tr>\n",
       "      <th>2</th>\n",
       "      <td>3</td>\n",
       "      <td>18th century</td>\n",
       "    </tr>\n",
       "    <tr>\n",
       "      <th>3</th>\n",
       "      <td>4</td>\n",
       "      <td>1920s</td>\n",
       "    </tr>\n",
       "    <tr>\n",
       "      <th>4</th>\n",
       "      <td>5</td>\n",
       "      <td>1930s</td>\n",
       "    </tr>\n",
       "  </tbody>\n",
       "</table>\n",
       "</div>"
      ],
      "text/plain": [
       "   tagId           tag\n",
       "0      1           007\n",
       "1      2  007 (series)\n",
       "2      3  18th century\n",
       "3      4         1920s\n",
       "4      5         1930s"
      ]
     },
     "execution_count": 20,
     "metadata": {},
     "output_type": "execute_result"
    }
   ],
   "source": [
    "df_genome_tags.head()"
   ]
  },
  {
   "cell_type": "markdown",
   "id": "691f66fb",
   "metadata": {
    "papermill": {
     "duration": 0.02439,
     "end_time": "2024-01-25T17:23:32.224462",
     "exception": false,
     "start_time": "2024-01-25T17:23:32.200072",
     "status": "completed"
    },
    "tags": []
   },
   "source": [
    "This dataframe has two columns:\n",
    "* tagId\n",
    "* tag -description of the tags"
   ]
  },
  {
   "cell_type": "code",
   "execution_count": 21,
   "id": "a0cd156d",
   "metadata": {
    "execution": {
     "iopub.execute_input": "2024-01-25T17:23:32.276666Z",
     "iopub.status.busy": "2024-01-25T17:23:32.275435Z",
     "iopub.status.idle": "2024-01-25T17:23:32.281619Z",
     "shell.execute_reply": "2024-01-25T17:23:32.280266Z"
    },
    "papermill": {
     "duration": 0.034375,
     "end_time": "2024-01-25T17:23:32.283817",
     "exception": false,
     "start_time": "2024-01-25T17:23:32.249442",
     "status": "completed"
    },
    "tags": []
   },
   "outputs": [
    {
     "name": "stdout",
     "output_type": "stream",
     "text": [
      "df_genome_tags has 1128 observations\n"
     ]
    }
   ],
   "source": [
    "print(\"df_genome_tags has\",len(df_genome_tags),\"observations\")"
   ]
  },
  {
   "cell_type": "code",
   "execution_count": 22,
   "id": "94158ae3",
   "metadata": {
    "execution": {
     "iopub.execute_input": "2024-01-25T17:23:32.334826Z",
     "iopub.status.busy": "2024-01-25T17:23:32.334410Z",
     "iopub.status.idle": "2024-01-25T17:23:32.345236Z",
     "shell.execute_reply": "2024-01-25T17:23:32.344121Z"
    },
    "papermill": {
     "duration": 0.03966,
     "end_time": "2024-01-25T17:23:32.348198",
     "exception": false,
     "start_time": "2024-01-25T17:23:32.308538",
     "status": "completed"
    },
    "tags": []
   },
   "outputs": [
    {
     "name": "stdout",
     "output_type": "stream",
     "text": [
      "Missing Values in Each Column (Before Cleaning):\n",
      "tagId    0\n",
      "tag      0\n",
      "dtype: int64\n",
      "\n",
      "Missing Values in Each Column (After Cleaning):\n",
      "tagId    0\n",
      "tag      0\n",
      "dtype: int64\n"
     ]
    }
   ],
   "source": [
    "import pandas as pd\n",
    "\n",
    "\n",
    "# Display the number of missing values in each column before cleaning\n",
    "print(\"Missing Values in Each Column (Before Cleaning):\")\n",
    "print(df_genome_tags.isnull().sum())\n",
    "\n",
    "# Drop rows with missing values\n",
    "df_genome_tags_cleaned = df_genome_tags.dropna()\n",
    "\n",
    "# Display the number of missing values in each column after cleaning\n",
    "print(\"\\nMissing Values in Each Column (After Cleaning):\")\n",
    "print(df_genome_tags_cleaned.isnull().sum())\n"
   ]
  },
  {
   "cell_type": "code",
   "execution_count": 23,
   "id": "08c35c60",
   "metadata": {
    "execution": {
     "iopub.execute_input": "2024-01-25T17:23:32.399407Z",
     "iopub.status.busy": "2024-01-25T17:23:32.398985Z",
     "iopub.status.idle": "2024-01-25T17:23:32.420374Z",
     "shell.execute_reply": "2024-01-25T17:23:32.419527Z"
    },
    "papermill": {
     "duration": 0.04955,
     "end_time": "2024-01-25T17:23:32.422667",
     "exception": false,
     "start_time": "2024-01-25T17:23:32.373117",
     "status": "completed"
    },
    "tags": []
   },
   "outputs": [
    {
     "name": "stdout",
     "output_type": "stream",
     "text": [
      "Original DataFrame:\n",
      "   tagId      tag\n",
      "0      1   Action\n",
      "1      2   Comedy\n",
      "2      3    Drama\n",
      "3      4   Sci-Fi\n",
      "4      5  Romance\n"
     ]
    }
   ],
   "source": [
    "import pandas as pd\n",
    "\n",
    "# Assuming 'df_tags' is your DataFrame and column names are as mentioned\n",
    "# Replace with your actual DataFrame and column names\n",
    "\n",
    "# Sample DataFrame\n",
    "data = {\n",
    "    'tagId': [1, 2, 3, 4, 5],\n",
    "    'tag': ['Action', 'Comedy', 'Drama', 'Sci-Fi', 'Romance']\n",
    "}\n",
    "\n",
    "df_tags = pd.DataFrame(data)\n",
    "\n",
    "# Data Cleaning Steps\n",
    "df_tags['tag'] = df_tags['tag'].str.strip()  # Remove leading and trailing whitespaces\n",
    "\n",
    "# Display the cleaned DataFrame\n",
    "print(\"Original DataFrame:\")\n",
    "print(df_tags)\n"
   ]
  },
  {
   "cell_type": "code",
   "execution_count": 24,
   "id": "ea942c15",
   "metadata": {
    "execution": {
     "iopub.execute_input": "2024-01-25T17:23:32.474346Z",
     "iopub.status.busy": "2024-01-25T17:23:32.473939Z",
     "iopub.status.idle": "2024-01-25T17:23:32.484447Z",
     "shell.execute_reply": "2024-01-25T17:23:32.483394Z"
    },
    "papermill": {
     "duration": 0.039242,
     "end_time": "2024-01-25T17:23:32.486691",
     "exception": false,
     "start_time": "2024-01-25T17:23:32.447449",
     "status": "completed"
    },
    "tags": []
   },
   "outputs": [
    {
     "name": "stdout",
     "output_type": "stream",
     "text": [
      "Original DataFrame:\n",
      "   movieId  tagId  relevance\n",
      "0        1    101        0.8\n",
      "1        2    102        0.6\n",
      "2        3    103        0.9\n",
      "3        4    104        0.7\n",
      "4        5    105        0.5\n"
     ]
    }
   ],
   "source": [
    "import pandas as pd\n",
    "\n",
    "# Assuming 'df_tags_relevance' is your DataFrame and column names are as mentioned\n",
    "# Replace with your actual DataFrame and column names\n",
    "\n",
    "# Sample DataFrame\n",
    "data = {\n",
    "    'movieId': [1, 2, 3, 4, 5],\n",
    "    'tagId': [101, 102, 103, 104, 105],\n",
    "    'relevance': [0.8, 0.6, 0.9, 0.7, 0.5]\n",
    "}\n",
    "\n",
    "df_tags_relevance = pd.DataFrame(data)\n",
    "\n",
    "# Data Cleaning Steps\n",
    "# You may need to perform specific data cleaning steps based on the characteristics of the 'relevance' column\n",
    "\n",
    "# Display the cleaned DataFrame\n",
    "print(\"Original DataFrame:\")\n",
    "print(df_tags_relevance)\n"
   ]
  },
  {
   "cell_type": "code",
   "execution_count": 25,
   "id": "4584c02c",
   "metadata": {
    "execution": {
     "iopub.execute_input": "2024-01-25T17:23:32.538856Z",
     "iopub.status.busy": "2024-01-25T17:23:32.538436Z",
     "iopub.status.idle": "2024-01-25T17:23:32.549629Z",
     "shell.execute_reply": "2024-01-25T17:23:32.548527Z"
    },
    "papermill": {
     "duration": 0.040263,
     "end_time": "2024-01-25T17:23:32.551932",
     "exception": false,
     "start_time": "2024-01-25T17:23:32.511669",
     "status": "completed"
    },
    "tags": []
   },
   "outputs": [
    {
     "data": {
      "text/html": [
       "<div>\n",
       "<style scoped>\n",
       "    .dataframe tbody tr th:only-of-type {\n",
       "        vertical-align: middle;\n",
       "    }\n",
       "\n",
       "    .dataframe tbody tr th {\n",
       "        vertical-align: top;\n",
       "    }\n",
       "\n",
       "    .dataframe thead th {\n",
       "        text-align: right;\n",
       "    }\n",
       "</style>\n",
       "<table border=\"1\" class=\"dataframe\">\n",
       "  <thead>\n",
       "    <tr style=\"text-align: right;\">\n",
       "      <th></th>\n",
       "      <th>movieId</th>\n",
       "      <th>tagId</th>\n",
       "      <th>relevance</th>\n",
       "    </tr>\n",
       "  </thead>\n",
       "  <tbody>\n",
       "    <tr>\n",
       "      <th>0</th>\n",
       "      <td>1</td>\n",
       "      <td>1</td>\n",
       "      <td>0.02875</td>\n",
       "    </tr>\n",
       "    <tr>\n",
       "      <th>1</th>\n",
       "      <td>1</td>\n",
       "      <td>2</td>\n",
       "      <td>0.02375</td>\n",
       "    </tr>\n",
       "    <tr>\n",
       "      <th>2</th>\n",
       "      <td>1</td>\n",
       "      <td>3</td>\n",
       "      <td>0.06250</td>\n",
       "    </tr>\n",
       "    <tr>\n",
       "      <th>3</th>\n",
       "      <td>1</td>\n",
       "      <td>4</td>\n",
       "      <td>0.07575</td>\n",
       "    </tr>\n",
       "    <tr>\n",
       "      <th>4</th>\n",
       "      <td>1</td>\n",
       "      <td>5</td>\n",
       "      <td>0.14075</td>\n",
       "    </tr>\n",
       "  </tbody>\n",
       "</table>\n",
       "</div>"
      ],
      "text/plain": [
       "   movieId  tagId  relevance\n",
       "0        1      1    0.02875\n",
       "1        1      2    0.02375\n",
       "2        1      3    0.06250\n",
       "3        1      4    0.07575\n",
       "4        1      5    0.14075"
      ]
     },
     "execution_count": 25,
     "metadata": {},
     "output_type": "execute_result"
    }
   ],
   "source": [
    "df_genome_scores.head()"
   ]
  },
  {
   "cell_type": "markdown",
   "id": "6eeacf07",
   "metadata": {
    "papermill": {
     "duration": 0.025076,
     "end_time": "2024-01-25T17:23:32.602383",
     "exception": false,
     "start_time": "2024-01-25T17:23:32.577307",
     "status": "completed"
    },
    "tags": []
   },
   "source": [
    "This dataframe has 3 columns:\n",
    "* movieId\n",
    "* tagId\n",
    "* relevance - computed using a machine learning algorithm on user-contributed content including tags, ratings, and textual reviews\n",
    "\n",
    "This dataframe will be linked with df_train through the movied"
   ]
  },
  {
   "cell_type": "code",
   "execution_count": 26,
   "id": "0ae479e3",
   "metadata": {
    "execution": {
     "iopub.execute_input": "2024-01-25T17:23:32.657346Z",
     "iopub.status.busy": "2024-01-25T17:23:32.656247Z",
     "iopub.status.idle": "2024-01-25T17:23:32.662775Z",
     "shell.execute_reply": "2024-01-25T17:23:32.661589Z"
    },
    "papermill": {
     "duration": 0.036618,
     "end_time": "2024-01-25T17:23:32.665015",
     "exception": false,
     "start_time": "2024-01-25T17:23:32.628397",
     "status": "completed"
    },
    "tags": []
   },
   "outputs": [
    {
     "name": "stdout",
     "output_type": "stream",
     "text": [
      "df_genome_scores has 15584448 observations\n"
     ]
    }
   ],
   "source": [
    "print(\"df_genome_scores has\",len(df_genome_scores),\"observations\")"
   ]
  },
  {
   "cell_type": "code",
   "execution_count": 27,
   "id": "95b92c52",
   "metadata": {
    "execution": {
     "iopub.execute_input": "2024-01-25T17:23:32.719042Z",
     "iopub.status.busy": "2024-01-25T17:23:32.717702Z",
     "iopub.status.idle": "2024-01-25T17:23:33.043577Z",
     "shell.execute_reply": "2024-01-25T17:23:33.042404Z"
    },
    "papermill": {
     "duration": 0.355444,
     "end_time": "2024-01-25T17:23:33.046410",
     "exception": false,
     "start_time": "2024-01-25T17:23:32.690966",
     "status": "completed"
    },
    "tags": []
   },
   "outputs": [
    {
     "name": "stdout",
     "output_type": "stream",
     "text": [
      "Missing Values in Each Column (Before Cleaning):\n",
      "movieId      0\n",
      "tagId        0\n",
      "relevance    0\n",
      "dtype: int64\n",
      "\n",
      "Missing Values in Each Column (After Cleaning):\n",
      "movieId      0\n",
      "tagId        0\n",
      "relevance    0\n",
      "dtype: int64\n"
     ]
    }
   ],
   "source": [
    "import pandas as pd\n",
    "\n",
    "\n",
    "# Display the number of missing values in each column before cleaning\n",
    "print(\"Missing Values in Each Column (Before Cleaning):\")\n",
    "print(df_genome_scores.isnull().sum())\n",
    "\n",
    "# Drop rows with missing values\n",
    "df_genome_scores_cleaned = df_genome_scores.dropna()\n",
    "\n",
    "# Display the number of missing values in each column after cleaning\n",
    "print(\"\\nMissing Values in Each Column (After Cleaning):\")\n",
    "print(df_genome_scores.isnull().sum())\n"
   ]
  },
  {
   "cell_type": "markdown",
   "id": "41f4bbd9",
   "metadata": {
    "papermill": {
     "duration": 0.025507,
     "end_time": "2024-01-25T17:23:33.097887",
     "exception": false,
     "start_time": "2024-01-25T17:23:33.072380",
     "status": "completed"
    },
    "tags": []
   },
   "source": [
    "## Tags\n",
    "user supplied tags for each movie at a specific timestamp."
   ]
  },
  {
   "cell_type": "code",
   "execution_count": 28,
   "id": "fd6f4ec5",
   "metadata": {
    "execution": {
     "iopub.execute_input": "2024-01-25T17:23:33.151588Z",
     "iopub.status.busy": "2024-01-25T17:23:33.150697Z",
     "iopub.status.idle": "2024-01-25T17:23:33.161109Z",
     "shell.execute_reply": "2024-01-25T17:23:33.159939Z"
    },
    "papermill": {
     "duration": 0.039717,
     "end_time": "2024-01-25T17:23:33.163418",
     "exception": false,
     "start_time": "2024-01-25T17:23:33.123701",
     "status": "completed"
    },
    "tags": []
   },
   "outputs": [
    {
     "data": {
      "text/html": [
       "<div>\n",
       "<style scoped>\n",
       "    .dataframe tbody tr th:only-of-type {\n",
       "        vertical-align: middle;\n",
       "    }\n",
       "\n",
       "    .dataframe tbody tr th {\n",
       "        vertical-align: top;\n",
       "    }\n",
       "\n",
       "    .dataframe thead th {\n",
       "        text-align: right;\n",
       "    }\n",
       "</style>\n",
       "<table border=\"1\" class=\"dataframe\">\n",
       "  <thead>\n",
       "    <tr style=\"text-align: right;\">\n",
       "      <th></th>\n",
       "      <th>tagId</th>\n",
       "      <th>tag</th>\n",
       "    </tr>\n",
       "  </thead>\n",
       "  <tbody>\n",
       "    <tr>\n",
       "      <th>0</th>\n",
       "      <td>1</td>\n",
       "      <td>Action</td>\n",
       "    </tr>\n",
       "    <tr>\n",
       "      <th>1</th>\n",
       "      <td>2</td>\n",
       "      <td>Comedy</td>\n",
       "    </tr>\n",
       "    <tr>\n",
       "      <th>2</th>\n",
       "      <td>3</td>\n",
       "      <td>Drama</td>\n",
       "    </tr>\n",
       "    <tr>\n",
       "      <th>3</th>\n",
       "      <td>4</td>\n",
       "      <td>Sci-Fi</td>\n",
       "    </tr>\n",
       "    <tr>\n",
       "      <th>4</th>\n",
       "      <td>5</td>\n",
       "      <td>Romance</td>\n",
       "    </tr>\n",
       "  </tbody>\n",
       "</table>\n",
       "</div>"
      ],
      "text/plain": [
       "   tagId      tag\n",
       "0      1   Action\n",
       "1      2   Comedy\n",
       "2      3    Drama\n",
       "3      4   Sci-Fi\n",
       "4      5  Romance"
      ]
     },
     "execution_count": 28,
     "metadata": {},
     "output_type": "execute_result"
    }
   ],
   "source": [
    "df_tags.head()"
   ]
  },
  {
   "cell_type": "markdown",
   "id": "ab4cd9e1",
   "metadata": {
    "papermill": {
     "duration": 0.025563,
     "end_time": "2024-01-25T17:23:33.214965",
     "exception": false,
     "start_time": "2024-01-25T17:23:33.189402",
     "status": "completed"
    },
    "tags": []
   },
   "source": [
    "df_tags has 4 columns:\n",
    "* userId\n",
    "* movieId\n",
    "* tag - tag supplied by user\n",
    "* timestamp - specific timestamp associated with the tag"
   ]
  },
  {
   "cell_type": "code",
   "execution_count": 29,
   "id": "537db292",
   "metadata": {
    "execution": {
     "iopub.execute_input": "2024-01-25T17:23:33.268801Z",
     "iopub.status.busy": "2024-01-25T17:23:33.268008Z",
     "iopub.status.idle": "2024-01-25T17:23:33.273763Z",
     "shell.execute_reply": "2024-01-25T17:23:33.272433Z"
    },
    "papermill": {
     "duration": 0.035251,
     "end_time": "2024-01-25T17:23:33.275916",
     "exception": false,
     "start_time": "2024-01-25T17:23:33.240665",
     "status": "completed"
    },
    "tags": []
   },
   "outputs": [
    {
     "name": "stdout",
     "output_type": "stream",
     "text": [
      "df_tags has 5 observations\n"
     ]
    }
   ],
   "source": [
    "print(\"df_tags has\",len(df_tags),\"observations\")"
   ]
  },
  {
   "cell_type": "code",
   "execution_count": 30,
   "id": "e4beef96",
   "metadata": {
    "execution": {
     "iopub.execute_input": "2024-01-25T17:23:33.330197Z",
     "iopub.status.busy": "2024-01-25T17:23:33.329752Z",
     "iopub.status.idle": "2024-01-25T17:23:33.340032Z",
     "shell.execute_reply": "2024-01-25T17:23:33.338697Z"
    },
    "papermill": {
     "duration": 0.040574,
     "end_time": "2024-01-25T17:23:33.342497",
     "exception": false,
     "start_time": "2024-01-25T17:23:33.301923",
     "status": "completed"
    },
    "tags": []
   },
   "outputs": [
    {
     "name": "stdout",
     "output_type": "stream",
     "text": [
      "Missing Values in Each Column (Before Cleaning):\n",
      "tagId    0\n",
      "tag      0\n",
      "dtype: int64\n",
      "\n",
      "Missing Values in Each Column (After Cleaning):\n",
      "tagId    0\n",
      "tag      0\n",
      "dtype: int64\n"
     ]
    }
   ],
   "source": [
    "import pandas as pd\n",
    "\n",
    "# Display the number of missing values in each column before cleaning\n",
    "print(\"Missing Values in Each Column (Before Cleaning):\")\n",
    "print(df_tags.isnull().sum())\n",
    "\n",
    "# Drop rows with missing values\n",
    "df_tags_cleaned = df_tags.dropna()\n",
    "\n",
    "# Display the number of missing values in each column after cleaning\n",
    "print(\"\\nMissing Values in Each Column (After Cleaning):\")\n",
    "print(df_tags_cleaned.isnull().sum())\n"
   ]
  },
  {
   "cell_type": "code",
   "execution_count": 31,
   "id": "48f27d68",
   "metadata": {
    "execution": {
     "iopub.execute_input": "2024-01-25T17:23:33.395886Z",
     "iopub.status.busy": "2024-01-25T17:23:33.395490Z",
     "iopub.status.idle": "2024-01-25T17:23:33.419158Z",
     "shell.execute_reply": "2024-01-25T17:23:33.417494Z"
    },
    "papermill": {
     "duration": 0.052887,
     "end_time": "2024-01-25T17:23:33.421267",
     "exception": false,
     "start_time": "2024-01-25T17:23:33.368380",
     "status": "completed"
    },
    "tags": []
   },
   "outputs": [
    {
     "name": "stdout",
     "output_type": "stream",
     "text": [
      "Initial DataFrame:\n",
      "\n",
      "DataFrame After Removing Rows with Missing Values:\n",
      "   tagId      tag\n",
      "0      1   Action\n",
      "1      2   Comedy\n",
      "2      3    Drama\n",
      "3      4   Sci-Fi\n",
      "4      5  Romance\n",
      "\n",
      "Duplicate Rows in the Entire DataFrame:\n",
      "Empty DataFrame\n",
      "Columns: [tagId, tag]\n",
      "Index: []\n",
      "\n",
      "Rows with Outliers:\n",
      "Empty DataFrame\n",
      "Columns: [tagId, tag]\n",
      "Index: []\n",
      "\n",
      "Unique values in tag:\n",
      "['Action' 'Comedy' 'Drama' 'Sci-Fi' 'Romance']\n",
      "\n",
      "Unique values in tagId:\n",
      "[1 2 3 4 5]\n",
      "\n",
      "Zero Values in Numerical Columns:\n",
      "tagId    0\n",
      "dtype: int64\n"
     ]
    }
   ],
   "source": [
    "import pandas as pd\n",
    "import numpy as np\n",
    "from scipy.stats import zscore\n",
    "\n",
    "\n",
    "# Display the first few rows of the DataFrame before performing data quality checks\n",
    "print(\"Initial DataFrame:\")\n",
    "\n",
    "# Remove rows with missing values\n",
    "df_tags_cleaned = df_tags.dropna()\n",
    "\n",
    "# Display the first few rows of the cleaned DataFrame\n",
    "print(\"\\nDataFrame After Removing Rows with Missing Values:\")\n",
    "print(df_tags_cleaned.head())\n",
    "\n",
    "# Check for Duplicates in the Entire DataFrame\n",
    "duplicate_rows = df_tags_cleaned[df_tags_cleaned.duplicated()]\n",
    "print(\"\\nDuplicate Rows in the Entire DataFrame:\")\n",
    "print(duplicate_rows)\n",
    "\n",
    "# Check for Outliers in Numerical Columns (using Z-score)\n",
    "z_scores = np.abs(zscore(df_tags_cleaned.select_dtypes(include=['number'])))\n",
    "outliers = (z_scores > 3).all(axis=1)\n",
    "outliers_df = df_tags_cleaned[outliers]\n",
    "print(\"\\nRows with Outliers:\")\n",
    "print(outliers_df)\n",
    "\n",
    "# Check for Consistency in Categorical Columns\n",
    "categorical_columns = df_tags_cleaned.select_dtypes(include=['object']).columns\n",
    "for col in categorical_columns:\n",
    "    unique_values = df_tags_cleaned[col].unique()\n",
    "    print(f\"\\nUnique values in {col}:\")\n",
    "    print(unique_values)\n",
    "\n",
    "# Check for Consistency in Numerical Columns\n",
    "numerical_columns = df_tags_cleaned.select_dtypes(include=['number']).columns\n",
    "for col in numerical_columns:\n",
    "    unique_values = df_tags_cleaned[col].unique()\n",
    "    print(f\"\\nUnique values in {col}:\")\n",
    "    print(unique_values)\n",
    "\n",
    "# Check for Zero Values in Numerical Columns\n",
    "zero_values = (df_tags_cleaned[numerical_columns] == 0).sum()\n",
    "print(\"\\nZero Values in Numerical Columns:\")\n",
    "print(zero_values)\n"
   ]
  },
  {
   "cell_type": "markdown",
   "id": "460ae6d6",
   "metadata": {
    "papermill": {
     "duration": 0.025745,
     "end_time": "2024-01-25T17:23:33.473062",
     "exception": false,
     "start_time": "2024-01-25T17:23:33.447317",
     "status": "completed"
    },
    "tags": []
   },
   "source": [
    "## Test Data"
   ]
  },
  {
   "cell_type": "code",
   "execution_count": 32,
   "id": "ca381817",
   "metadata": {
    "execution": {
     "iopub.execute_input": "2024-01-25T17:23:33.527337Z",
     "iopub.status.busy": "2024-01-25T17:23:33.526223Z",
     "iopub.status.idle": "2024-01-25T17:23:33.535563Z",
     "shell.execute_reply": "2024-01-25T17:23:33.534749Z"
    },
    "papermill": {
     "duration": 0.038412,
     "end_time": "2024-01-25T17:23:33.537556",
     "exception": false,
     "start_time": "2024-01-25T17:23:33.499144",
     "status": "completed"
    },
    "tags": []
   },
   "outputs": [
    {
     "data": {
      "text/html": [
       "<div>\n",
       "<style scoped>\n",
       "    .dataframe tbody tr th:only-of-type {\n",
       "        vertical-align: middle;\n",
       "    }\n",
       "\n",
       "    .dataframe tbody tr th {\n",
       "        vertical-align: top;\n",
       "    }\n",
       "\n",
       "    .dataframe thead th {\n",
       "        text-align: right;\n",
       "    }\n",
       "</style>\n",
       "<table border=\"1\" class=\"dataframe\">\n",
       "  <thead>\n",
       "    <tr style=\"text-align: right;\">\n",
       "      <th></th>\n",
       "      <th>userId</th>\n",
       "      <th>movieId</th>\n",
       "    </tr>\n",
       "  </thead>\n",
       "  <tbody>\n",
       "    <tr>\n",
       "      <th>0</th>\n",
       "      <td>1</td>\n",
       "      <td>2011</td>\n",
       "    </tr>\n",
       "    <tr>\n",
       "      <th>1</th>\n",
       "      <td>1</td>\n",
       "      <td>4144</td>\n",
       "    </tr>\n",
       "    <tr>\n",
       "      <th>2</th>\n",
       "      <td>1</td>\n",
       "      <td>5767</td>\n",
       "    </tr>\n",
       "    <tr>\n",
       "      <th>3</th>\n",
       "      <td>1</td>\n",
       "      <td>6711</td>\n",
       "    </tr>\n",
       "    <tr>\n",
       "      <th>4</th>\n",
       "      <td>1</td>\n",
       "      <td>7318</td>\n",
       "    </tr>\n",
       "  </tbody>\n",
       "</table>\n",
       "</div>"
      ],
      "text/plain": [
       "   userId  movieId\n",
       "0       1     2011\n",
       "1       1     4144\n",
       "2       1     5767\n",
       "3       1     6711\n",
       "4       1     7318"
      ]
     },
     "execution_count": 32,
     "metadata": {},
     "output_type": "execute_result"
    }
   ],
   "source": [
    "df_test.head()"
   ]
  },
  {
   "cell_type": "code",
   "execution_count": 33,
   "id": "86919b9d",
   "metadata": {
    "execution": {
     "iopub.execute_input": "2024-01-25T17:23:33.591784Z",
     "iopub.status.busy": "2024-01-25T17:23:33.591362Z",
     "iopub.status.idle": "2024-01-25T17:23:33.602677Z",
     "shell.execute_reply": "2024-01-25T17:23:33.601630Z"
    },
    "papermill": {
     "duration": 0.041214,
     "end_time": "2024-01-25T17:23:33.604967",
     "exception": false,
     "start_time": "2024-01-25T17:23:33.563753",
     "status": "completed"
    },
    "tags": []
   },
   "outputs": [
    {
     "data": {
      "text/html": [
       "<div>\n",
       "<style scoped>\n",
       "    .dataframe tbody tr th:only-of-type {\n",
       "        vertical-align: middle;\n",
       "    }\n",
       "\n",
       "    .dataframe tbody tr th {\n",
       "        vertical-align: top;\n",
       "    }\n",
       "\n",
       "    .dataframe thead th {\n",
       "        text-align: right;\n",
       "    }\n",
       "</style>\n",
       "<table border=\"1\" class=\"dataframe\">\n",
       "  <thead>\n",
       "    <tr style=\"text-align: right;\">\n",
       "      <th></th>\n",
       "      <th>userId</th>\n",
       "      <th>movieId</th>\n",
       "      <th>rating</th>\n",
       "      <th>timestamp</th>\n",
       "    </tr>\n",
       "  </thead>\n",
       "  <tbody>\n",
       "    <tr>\n",
       "      <th>0</th>\n",
       "      <td>5163</td>\n",
       "      <td>57669</td>\n",
       "      <td>4.0</td>\n",
       "      <td>1518349992</td>\n",
       "    </tr>\n",
       "    <tr>\n",
       "      <th>1</th>\n",
       "      <td>106343</td>\n",
       "      <td>5</td>\n",
       "      <td>4.5</td>\n",
       "      <td>1206238739</td>\n",
       "    </tr>\n",
       "    <tr>\n",
       "      <th>2</th>\n",
       "      <td>146790</td>\n",
       "      <td>5459</td>\n",
       "      <td>5.0</td>\n",
       "      <td>1076215539</td>\n",
       "    </tr>\n",
       "    <tr>\n",
       "      <th>3</th>\n",
       "      <td>106362</td>\n",
       "      <td>32296</td>\n",
       "      <td>2.0</td>\n",
       "      <td>1423042565</td>\n",
       "    </tr>\n",
       "    <tr>\n",
       "      <th>4</th>\n",
       "      <td>9041</td>\n",
       "      <td>366</td>\n",
       "      <td>3.0</td>\n",
       "      <td>833375837</td>\n",
       "    </tr>\n",
       "  </tbody>\n",
       "</table>\n",
       "</div>"
      ],
      "text/plain": [
       "   userId  movieId  rating   timestamp\n",
       "0    5163    57669     4.0  1518349992\n",
       "1  106343        5     4.5  1206238739\n",
       "2  146790     5459     5.0  1076215539\n",
       "3  106362    32296     2.0  1423042565\n",
       "4    9041      366     3.0   833375837"
      ]
     },
     "execution_count": 33,
     "metadata": {},
     "output_type": "execute_result"
    }
   ],
   "source": [
    "df_train.head()"
   ]
  },
  {
   "cell_type": "markdown",
   "id": "768f2646",
   "metadata": {
    "papermill": {
     "duration": 0.026865,
     "end_time": "2024-01-25T17:23:33.658736",
     "exception": false,
     "start_time": "2024-01-25T17:23:33.631871",
     "status": "completed"
    },
    "tags": []
   },
   "source": [
    "df_train has two columns:\n",
    "* userId\n",
    "* movieId"
   ]
  },
  {
   "cell_type": "code",
   "execution_count": 34,
   "id": "ad363da5",
   "metadata": {
    "execution": {
     "iopub.execute_input": "2024-01-25T17:23:33.713983Z",
     "iopub.status.busy": "2024-01-25T17:23:33.713551Z",
     "iopub.status.idle": "2024-01-25T17:23:33.718770Z",
     "shell.execute_reply": "2024-01-25T17:23:33.717633Z"
    },
    "papermill": {
     "duration": 0.036054,
     "end_time": "2024-01-25T17:23:33.721558",
     "exception": false,
     "start_time": "2024-01-25T17:23:33.685504",
     "status": "completed"
    },
    "tags": []
   },
   "outputs": [
    {
     "name": "stdout",
     "output_type": "stream",
     "text": [
      "The training set has 5000019 observations\n"
     ]
    }
   ],
   "source": [
    "print(\"The training set has\", str(len(df_test)),\"observations\")"
   ]
  },
  {
   "cell_type": "code",
   "execution_count": 35,
   "id": "fcf79374",
   "metadata": {
    "execution": {
     "iopub.execute_input": "2024-01-25T17:23:33.776357Z",
     "iopub.status.busy": "2024-01-25T17:23:33.775923Z",
     "iopub.status.idle": "2024-01-25T17:23:34.027120Z",
     "shell.execute_reply": "2024-01-25T17:23:34.026205Z"
    },
    "papermill": {
     "duration": 0.281294,
     "end_time": "2024-01-25T17:23:34.029268",
     "exception": false,
     "start_time": "2024-01-25T17:23:33.747974",
     "status": "completed"
    },
    "tags": []
   },
   "outputs": [
    {
     "name": "stdout",
     "output_type": "stream",
     "text": [
      "Missing Values in Each Column (Before Cleaning):\n",
      "userId       0\n",
      "movieId      0\n",
      "rating       0\n",
      "timestamp    0\n",
      "dtype: int64\n",
      "\n",
      "Missing Values in Each Column (After Cleaning):\n",
      "userId       0\n",
      "movieId      0\n",
      "rating       0\n",
      "timestamp    0\n",
      "dtype: int64\n"
     ]
    }
   ],
   "source": [
    "import pandas as pd\n",
    "\n",
    "# Assuming 'imdb' is your DataFrame, replace it with your actual DataFrame variable\n",
    "\n",
    "# Display the number of missing values in each column before cleaning\n",
    "print(\"Missing Values in Each Column (Before Cleaning):\")\n",
    "print(df_train.isnull().sum())\n",
    "\n",
    "# Drop rows with missing values\n",
    "df_train_cleaned = df_train.dropna()\n",
    "\n",
    "# Display the number of missing values in each column after cleaning\n",
    "print(\"\\nMissing Values in Each Column (After Cleaning):\")\n",
    "print(df_train_cleaned.isnull().sum())\n"
   ]
  },
  {
   "cell_type": "markdown",
   "id": "bf997a6b",
   "metadata": {
    "papermill": {
     "duration": 0.026806,
     "end_time": "2024-01-25T17:23:34.083128",
     "exception": false,
     "start_time": "2024-01-25T17:23:34.056322",
     "status": "completed"
    },
    "tags": []
   },
   "source": [
    "## Sample Submision"
   ]
  },
  {
   "cell_type": "code",
   "execution_count": 36,
   "id": "395555c2",
   "metadata": {
    "execution": {
     "iopub.execute_input": "2024-01-25T17:23:34.138730Z",
     "iopub.status.busy": "2024-01-25T17:23:34.138128Z",
     "iopub.status.idle": "2024-01-25T17:23:34.147541Z",
     "shell.execute_reply": "2024-01-25T17:23:34.146754Z"
    },
    "papermill": {
     "duration": 0.039667,
     "end_time": "2024-01-25T17:23:34.149676",
     "exception": false,
     "start_time": "2024-01-25T17:23:34.110009",
     "status": "completed"
    },
    "tags": []
   },
   "outputs": [
    {
     "data": {
      "text/html": [
       "<div>\n",
       "<style scoped>\n",
       "    .dataframe tbody tr th:only-of-type {\n",
       "        vertical-align: middle;\n",
       "    }\n",
       "\n",
       "    .dataframe tbody tr th {\n",
       "        vertical-align: top;\n",
       "    }\n",
       "\n",
       "    .dataframe thead th {\n",
       "        text-align: right;\n",
       "    }\n",
       "</style>\n",
       "<table border=\"1\" class=\"dataframe\">\n",
       "  <thead>\n",
       "    <tr style=\"text-align: right;\">\n",
       "      <th></th>\n",
       "      <th>Id</th>\n",
       "      <th>rating</th>\n",
       "    </tr>\n",
       "  </thead>\n",
       "  <tbody>\n",
       "    <tr>\n",
       "      <th>0</th>\n",
       "      <td>1_2011</td>\n",
       "      <td>1.0</td>\n",
       "    </tr>\n",
       "    <tr>\n",
       "      <th>1</th>\n",
       "      <td>1_4144</td>\n",
       "      <td>1.0</td>\n",
       "    </tr>\n",
       "    <tr>\n",
       "      <th>2</th>\n",
       "      <td>1_5767</td>\n",
       "      <td>1.0</td>\n",
       "    </tr>\n",
       "    <tr>\n",
       "      <th>3</th>\n",
       "      <td>1_6711</td>\n",
       "      <td>1.0</td>\n",
       "    </tr>\n",
       "    <tr>\n",
       "      <th>4</th>\n",
       "      <td>1_7318</td>\n",
       "      <td>1.0</td>\n",
       "    </tr>\n",
       "  </tbody>\n",
       "</table>\n",
       "</div>"
      ],
      "text/plain": [
       "       Id  rating\n",
       "0  1_2011     1.0\n",
       "1  1_4144     1.0\n",
       "2  1_5767     1.0\n",
       "3  1_6711     1.0\n",
       "4  1_7318     1.0"
      ]
     },
     "execution_count": 36,
     "metadata": {},
     "output_type": "execute_result"
    }
   ],
   "source": [
    "df_sample_submission.head()"
   ]
  },
  {
   "cell_type": "code",
   "execution_count": 37,
   "id": "b36d18e8",
   "metadata": {
    "execution": {
     "iopub.execute_input": "2024-01-25T17:23:34.207301Z",
     "iopub.status.busy": "2024-01-25T17:23:34.206621Z",
     "iopub.status.idle": "2024-01-25T17:23:34.216785Z",
     "shell.execute_reply": "2024-01-25T17:23:34.215500Z"
    },
    "papermill": {
     "duration": 0.041241,
     "end_time": "2024-01-25T17:23:34.218997",
     "exception": false,
     "start_time": "2024-01-25T17:23:34.177756",
     "status": "completed"
    },
    "tags": []
   },
   "outputs": [
    {
     "name": "stdout",
     "output_type": "stream",
     "text": [
      "<class 'pandas.core.frame.DataFrame'>\n",
      "RangeIndex: 5000019 entries, 0 to 5000018\n",
      "Data columns (total 2 columns):\n",
      " #   Column  Dtype  \n",
      "---  ------  -----  \n",
      " 0   Id      object \n",
      " 1   rating  float64\n",
      "dtypes: float64(1), object(1)\n",
      "memory usage: 76.3+ MB\n"
     ]
    }
   ],
   "source": [
    "df_sample_submission.info()"
   ]
  },
  {
   "cell_type": "code",
   "execution_count": 38,
   "id": "2e83eb28",
   "metadata": {
    "execution": {
     "iopub.execute_input": "2024-01-25T17:23:34.275833Z",
     "iopub.status.busy": "2024-01-25T17:23:34.275002Z",
     "iopub.status.idle": "2024-01-25T17:23:35.932945Z",
     "shell.execute_reply": "2024-01-25T17:23:35.931654Z"
    },
    "papermill": {
     "duration": 1.689186,
     "end_time": "2024-01-25T17:23:35.935532",
     "exception": false,
     "start_time": "2024-01-25T17:23:34.246346",
     "status": "completed"
    },
    "tags": []
   },
   "outputs": [
    {
     "name": "stdout",
     "output_type": "stream",
     "text": [
      "Missing Values in Each Column (Before Cleaning):\n",
      "Id        0\n",
      "rating    0\n",
      "dtype: int64\n",
      "\n",
      "Missing Values in Each Column (After Cleaning):\n",
      "Id        0\n",
      "rating    0\n",
      "dtype: int64\n"
     ]
    }
   ],
   "source": [
    "import pandas as pd\n",
    "\n",
    "# Assuming 'imdb' is your DataFrame, replace it with your actual DataFrame variable\n",
    "\n",
    "# Display the number of missing values in each column before cleaning\n",
    "print(\"Missing Values in Each Column (Before Cleaning):\")\n",
    "print(df_sample_submission.isnull().sum())\n",
    "\n",
    "# Drop rows with missing values\n",
    "df_sample_submission_cleaned = df_sample_submission.dropna()\n",
    "\n",
    "# Display the number of missing values in each column after cleaning\n",
    "print(\"\\nMissing Values in Each Column (After Cleaning):\")\n",
    "print(df_sample_submission_cleaned.isnull().sum())\n"
   ]
  },
  {
   "cell_type": "markdown",
   "id": "bed5bc25",
   "metadata": {
    "papermill": {
     "duration": 0.027234,
     "end_time": "2024-01-25T17:23:35.991636",
     "exception": false,
     "start_time": "2024-01-25T17:23:35.964402",
     "status": "completed"
    },
    "tags": []
   },
   "source": [
    "## Exploratory Data Analysis\n",
    "discovery phase and data understanding"
   ]
  },
  {
   "cell_type": "markdown",
   "id": "385c7840",
   "metadata": {
    "papermill": {
     "duration": 0.027104,
     "end_time": "2024-01-25T17:23:36.046127",
     "exception": false,
     "start_time": "2024-01-25T17:23:36.019023",
     "status": "completed"
    },
    "tags": []
   },
   "source": [
    "## Distribution Of Ratings\n",
    "\n",
    "Descriptive statistics"
   ]
  },
  {
   "cell_type": "code",
   "execution_count": 39,
   "id": "d50bb67a",
   "metadata": {
    "execution": {
     "iopub.execute_input": "2024-01-25T17:23:36.102830Z",
     "iopub.status.busy": "2024-01-25T17:23:36.102452Z",
     "iopub.status.idle": "2024-01-25T17:23:36.565157Z",
     "shell.execute_reply": "2024-01-25T17:23:36.564261Z"
    },
    "papermill": {
     "duration": 0.493979,
     "end_time": "2024-01-25T17:23:36.567520",
     "exception": false,
     "start_time": "2024-01-25T17:23:36.073541",
     "status": "completed"
    },
    "tags": []
   },
   "outputs": [
    {
     "data": {
      "text/html": [
       "<div>\n",
       "<style scoped>\n",
       "    .dataframe tbody tr th:only-of-type {\n",
       "        vertical-align: middle;\n",
       "    }\n",
       "\n",
       "    .dataframe tbody tr th {\n",
       "        vertical-align: top;\n",
       "    }\n",
       "\n",
       "    .dataframe thead th {\n",
       "        text-align: right;\n",
       "    }\n",
       "</style>\n",
       "<table border=\"1\" class=\"dataframe\">\n",
       "  <thead>\n",
       "    <tr style=\"text-align: right;\">\n",
       "      <th></th>\n",
       "      <th>Statistic</th>\n",
       "    </tr>\n",
       "  </thead>\n",
       "  <tbody>\n",
       "    <tr>\n",
       "      <th>count</th>\n",
       "      <td>10000038.00</td>\n",
       "    </tr>\n",
       "    <tr>\n",
       "      <th>mean</th>\n",
       "      <td>3.53</td>\n",
       "    </tr>\n",
       "    <tr>\n",
       "      <th>std</th>\n",
       "      <td>1.06</td>\n",
       "    </tr>\n",
       "    <tr>\n",
       "      <th>min</th>\n",
       "      <td>0.50</td>\n",
       "    </tr>\n",
       "    <tr>\n",
       "      <th>25%</th>\n",
       "      <td>3.00</td>\n",
       "    </tr>\n",
       "    <tr>\n",
       "      <th>50%</th>\n",
       "      <td>3.50</td>\n",
       "    </tr>\n",
       "    <tr>\n",
       "      <th>75%</th>\n",
       "      <td>4.00</td>\n",
       "    </tr>\n",
       "    <tr>\n",
       "      <th>max</th>\n",
       "      <td>5.00</td>\n",
       "    </tr>\n",
       "  </tbody>\n",
       "</table>\n",
       "</div>"
      ],
      "text/plain": [
       "         Statistic\n",
       "count  10000038.00\n",
       "mean          3.53\n",
       "std           1.06\n",
       "min           0.50\n",
       "25%           3.00\n",
       "50%           3.50\n",
       "75%           4.00\n",
       "max           5.00"
      ]
     },
     "execution_count": 39,
     "metadata": {},
     "output_type": "execute_result"
    }
   ],
   "source": [
    "pd.DataFrame(df_train['rating'].describe().apply(lambda x: round(x,2)), \n",
    "             columns=['rating']).rename(columns={'rating':'Statistic'})"
   ]
  },
  {
   "cell_type": "markdown",
   "id": "c7f64c26",
   "metadata": {
    "papermill": {
     "duration": 0.036695,
     "end_time": "2024-01-25T17:23:36.632864",
     "exception": false,
     "start_time": "2024-01-25T17:23:36.596169",
     "status": "completed"
    },
    "tags": []
   },
   "source": [
    "* The average rating of all the movies in our dataset is 3.53.\n",
    "* The median (middle value) is 3.5 which is slighly less than the mean.\n",
    "* The standard deviation (spread around the average) is  1.06.\n",
    "* The lowest rating is 0.5 and the highest rating is 5.\n",
    "* The lower quantile (bottom 25 cut-off point) is 3 and the upper quantile (top 25 cut-off point) is 4.\n"
   ]
  },
  {
   "cell_type": "code",
   "execution_count": 40,
   "id": "8b3aa73e",
   "metadata": {
    "execution": {
     "iopub.execute_input": "2024-01-25T17:23:36.693436Z",
     "iopub.status.busy": "2024-01-25T17:23:36.693003Z",
     "iopub.status.idle": "2024-01-25T17:23:37.031360Z",
     "shell.execute_reply": "2024-01-25T17:23:37.030364Z"
    },
    "papermill": {
     "duration": 0.37041,
     "end_time": "2024-01-25T17:23:37.034057",
     "exception": false,
     "start_time": "2024-01-25T17:23:36.663647",
     "status": "completed"
    },
    "tags": []
   },
   "outputs": [],
   "source": [
    "#creating a dataframe with ratings and their counts\n",
    "\n",
    "rating_counts = df_train.groupby(['rating']).count().reset_index().rename(columns={'userId':'count'})[['rating','count']]"
   ]
  },
  {
   "cell_type": "markdown",
   "id": "3c06fa47",
   "metadata": {
    "papermill": {
     "duration": 0.028044,
     "end_time": "2024-01-25T17:23:37.089765",
     "exception": false,
     "start_time": "2024-01-25T17:23:37.061721",
     "status": "completed"
    },
    "tags": []
   },
   "source": [
    "We use the dataframe above to obtain a bargraph showing the distribution of ratings"
   ]
  },
  {
   "cell_type": "code",
   "execution_count": 41,
   "id": "629174b6",
   "metadata": {
    "execution": {
     "iopub.execute_input": "2024-01-25T17:23:37.147745Z",
     "iopub.status.busy": "2024-01-25T17:23:37.147362Z",
     "iopub.status.idle": "2024-01-25T17:23:37.666037Z",
     "shell.execute_reply": "2024-01-25T17:23:37.664750Z"
    },
    "papermill": {
     "duration": 0.550993,
     "end_time": "2024-01-25T17:23:37.668895",
     "exception": false,
     "start_time": "2024-01-25T17:23:37.117902",
     "status": "completed"
    },
    "tags": []
   },
   "outputs": [
    {
     "data": {
      "image/png": "[encoded data removed]",
      "text/plain": [
       "<Figure size 1500x1000 with 1 Axes>"
      ]
     },
     "metadata": {},
     "output_type": "display_data"
    }
   ],
   "source": [
    "#Plot showing the distribution of counts\n",
    "plot = plt.figure(figsize=(15, 10))\n",
    "a = sns.barplot(x='rating',y='count',data=rating_counts,palette='crest')\n",
    "a.set_title('The Distribution of Ratings',fontsize=20)\n",
    "\n",
    "#Obtaining percentages on top of bars\n",
    "n_obs = [i.get_height() for i in a.patches]\n",
    "total = sum(n_obs)\n",
    "\n",
    "for i in a.patches:\n",
    "    # get_x pulls left or right; get_height pushes up or down\n",
    "    a.text(i.get_x()+i.get_width() / 2, i.get_height()+0.5, \\\n",
    "            str(round((i.get_height()/total)*100, 1))+'%', fontsize=15,\n",
    "                color='black',ha='center')\n",
    "    \n",
    "plt.show()\n"
   ]
  },
  {
   "cell_type": "markdown",
   "id": "effe73c2",
   "metadata": {
    "papermill": {
     "duration": 0.028814,
     "end_time": "2024-01-25T17:23:37.727271",
     "exception": false,
     "start_time": "2024-01-25T17:23:37.698457",
     "status": "completed"
    },
    "tags": []
   },
   "source": [
    "* The most common rating given by users (26.5%) is 4. \n",
    "* The ratings appear to be skewed to the left (evidenced by the long tail to the left). This means that there are a few movies who received lower ratings compared to those that received higher ratings\n"
   ]
  },
  {
   "cell_type": "markdown",
   "id": "b34713ae",
   "metadata": {
    "papermill": {
     "duration": 0.027576,
     "end_time": "2024-01-25T17:23:37.783785",
     "exception": false,
     "start_time": "2024-01-25T17:23:37.756209",
     "status": "completed"
    },
    "tags": []
   },
   "source": [
    "### The we calculated the coefficient of skewness to check our above findings."
   ]
  },
  {
   "cell_type": "code",
   "execution_count": 42,
   "id": "cb0b18a5",
   "metadata": {
    "execution": {
     "iopub.execute_input": "2024-01-25T17:23:37.844395Z",
     "iopub.status.busy": "2024-01-25T17:23:37.843975Z",
     "iopub.status.idle": "2024-01-25T17:23:37.849933Z",
     "shell.execute_reply": "2024-01-25T17:23:37.848771Z"
    },
    "papermill": {
     "duration": 0.039129,
     "end_time": "2024-01-25T17:23:37.852854",
     "exception": false,
     "start_time": "2024-01-25T17:23:37.813725",
     "status": "completed"
    },
    "tags": []
   },
   "outputs": [
    {
     "name": "stdout",
     "output_type": "stream",
     "text": [
      "The Coefficient of Skewness is : 0.9316640025763425\n"
     ]
    }
   ],
   "source": [
    "#calcuting skew\n",
    "print('The Coefficient of Skewness is : '+str(rating_counts['count'].skew()))"
   ]
  },
  {
   "cell_type": "markdown",
   "id": "a9a1add9",
   "metadata": {
    "papermill": {
     "duration": 0.028326,
     "end_time": "2024-01-25T17:23:37.909964",
     "exception": false,
     "start_time": "2024-01-25T17:23:37.881638",
     "status": "completed"
    },
    "tags": []
   },
   "source": [
    "This contradicts with our suspicion that the distribution is negatively skewed. The contradiction can be explained by the fact that the distribution appears to have 2 peaks (slightly bimodal)."
   ]
  },
  {
   "cell_type": "code",
   "execution_count": 43,
   "id": "6f275f6a",
   "metadata": {
    "execution": {
     "iopub.execute_input": "2024-01-25T17:23:37.969306Z",
     "iopub.status.busy": "2024-01-25T17:23:37.968552Z",
     "iopub.status.idle": "2024-01-25T17:23:37.975152Z",
     "shell.execute_reply": "2024-01-25T17:23:37.974123Z"
    },
    "papermill": {
     "duration": 0.039258,
     "end_time": "2024-01-25T17:23:37.977852",
     "exception": false,
     "start_time": "2024-01-25T17:23:37.938594",
     "status": "completed"
    },
    "tags": []
   },
   "outputs": [
    {
     "name": "stdout",
     "output_type": "stream",
     "text": [
      "Total ratings: 225\n"
     ]
    }
   ],
   "source": [
    "# Example: Define and use rating_counts\n",
    "rating_counts = {'5 stars': 100, '4 stars': 75, '3 stars': 50}\n",
    "\n",
    "# Now you can use rating_counts in your code\n",
    "total_ratings = sum(rating_counts.values())\n",
    "print(f'Total ratings: {total_ratings}')\n",
    "\n",
    "# Delete rating_counts if needed\n",
    "del rating_counts\n",
    "\n",
    "# After deleting, if you try to access rating_counts again, you'll get a NameError\n",
    "# For example, the following line would raise a NameError\n",
    "# print(rating_counts)\n"
   ]
  },
  {
   "cell_type": "code",
   "execution_count": null,
   "id": "83cba05b",
   "metadata": {
    "papermill": {
     "duration": 0.028329,
     "end_time": "2024-01-25T17:23:38.035698",
     "exception": false,
     "start_time": "2024-01-25T17:23:38.007369",
     "status": "completed"
    },
    "tags": []
   },
   "outputs": [],
   "source": []
  },
  {
   "cell_type": "markdown",
   "id": "3ba8fbb2",
   "metadata": {
    "papermill": {
     "duration": 0.028381,
     "end_time": "2024-01-25T17:23:38.092873",
     "exception": false,
     "start_time": "2024-01-25T17:23:38.064492",
     "status": "completed"
    },
    "tags": []
   },
   "source": []
  },
  {
   "cell_type": "markdown",
   "id": "ee5b8920",
   "metadata": {
    "papermill": {
     "duration": 0.02847,
     "end_time": "2024-01-25T17:23:38.150372",
     "exception": false,
     "start_time": "2024-01-25T17:23:38.121902",
     "status": "completed"
    },
    "tags": []
   },
   "source": [
    "## Data Preprocessing"
   ]
  },
  {
   "cell_type": "code",
   "execution_count": null,
   "id": "d7830cb0",
   "metadata": {
    "papermill": {
     "duration": 0.028536,
     "end_time": "2024-01-25T17:23:38.207708",
     "exception": false,
     "start_time": "2024-01-25T17:23:38.179172",
     "status": "completed"
    },
    "tags": []
   },
   "outputs": [],
   "source": []
  },
  {
   "cell_type": "markdown",
   "id": "b69e3416",
   "metadata": {
    "papermill": {
     "duration": 0.028669,
     "end_time": "2024-01-25T17:23:38.265413",
     "exception": false,
     "start_time": "2024-01-25T17:23:38.236744",
     "status": "completed"
    },
    "tags": []
   },
   "source": [
    "##  Model fitting"
   ]
  },
  {
   "cell_type": "code",
   "execution_count": null,
   "id": "6660461d",
   "metadata": {
    "papermill": {
     "duration": 0.028599,
     "end_time": "2024-01-25T17:23:38.323085",
     "exception": false,
     "start_time": "2024-01-25T17:23:38.294486",
     "status": "completed"
    },
    "tags": []
   },
   "outputs": [],
   "source": []
  },
  {
   "cell_type": "markdown",
   "id": "2b7071b7",
   "metadata": {
    "papermill": {
     "duration": 0.028641,
     "end_time": "2024-01-25T17:23:38.380618",
     "exception": false,
     "start_time": "2024-01-25T17:23:38.351977",
     "status": "completed"
    },
    "tags": []
   },
   "source": [
    "## Model evaluation"
   ]
  },
  {
   "cell_type": "code",
   "execution_count": null,
   "id": "5f75d46e",
   "metadata": {
    "papermill": {
     "duration": 0.028781,
     "end_time": "2024-01-25T17:23:38.438488",
     "exception": false,
     "start_time": "2024-01-25T17:23:38.409707",
     "status": "completed"
    },
    "tags": []
   },
   "outputs": [],
   "source": []
  }
 ],
 "metadata": {
  "kaggle": {
   "accelerator": "none",
   "dataSources": [
    {
     "databundleVersionId": 7061481,
     "sourceId": 64431,
     "sourceType": "competition"
    },
    {
     "datasetId": 4322895,
     "sourceId": 7428762,
     "sourceType": "datasetVersion"
    }
   ],
   "dockerImageVersionId": 30635,
   "isGpuEnabled": false,
   "isInternetEnabled": true,
   "language": "python",
   "sourceType": "notebook"
  },
  "kernelspec": {
   "display_name": "Python 3",
   "language": "python",
   "name": "python3"
  },
  "language_info": {
   "codemirror_mode": {
    "name": "ipython",
    "version": 3
   },
   "file_extension": ".py",
   "mimetype": "text/x-python",
   "name": "python",
   "nbconvert_exporter": "python",
   "pygments_lexer": "ipython3",
   "version": "3.10.12"
  },
  "papermill": {
   "default_parameters": {},
   "duration": 82.261504,
   "end_time": "2024-01-25T17:23:39.390191",
   "environment_variables": {},
   "exception": null,
   "input_path": "__notebook__.ipynb",
   "output_path": "__notebook__.ipynb",
   "parameters": {},
   "start_time": "2024-01-25T17:22:17.128687",
   "version": "2.4.0"
  }
 },
 "nbformat": 4,
 "nbformat_minor": 5
}
